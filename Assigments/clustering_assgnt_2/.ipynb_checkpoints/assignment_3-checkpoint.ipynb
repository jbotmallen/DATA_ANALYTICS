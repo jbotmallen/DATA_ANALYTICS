{
 "cells": [
  {
   "cell_type": "markdown",
   "metadata": {},
   "source": [
    "# Sessa Empirical Estimator 🧪\n",
    "## Overview & Journal Summary 📄\n",
    "### The Sessa Empirical Estimator (SEE) 📊\n",
    "Sometimes, it is difficult to track prescriptions especially when in the secondary data source there are missing or incomplete dosing details. This is where the SEE comes in. The SEE was introduced as a data-driven method for computing the duration of prescriptions from secondary data sources. The following are the main steps that SEE does.\n",
    "\n",
    "1. **Compute Temporal Distances**: For each patient, calculate the time between consecutive prescription fills.\n",
    "2. **Trim Outliers**: Use the empirical cumulative distribution function (ECDF) to remove the top 20% of these distances (which may be inflated by irregular refill patterns).\n",
    "3. **Random Sampling & Standardization**: Randomly select pairs of consecutive fills, then standardize these temporal distances.\n",
    "4. **Clustering**: Use k‑means clustering (with the optimal number of clusters determined, for example, via silhouette analysis) to group the standardized distances.\n",
    "5. **Duration Estimation**: For each cluster, compute the median temporal distance to serve as the estimated “filled‐prescription duration.”\n",
    "\n",
    "The journals we read had reports of high accuracy and sensitivity when validating the method on both simulated and real-world data. We will now try to replicate the R code of these journals into our Python implementations and then use a different clustering method for comparison and analysis of results."
   ]
  },
  {
   "cell_type": "markdown",
   "metadata": {},
   "source": [
    "## Importing the necessary libraries\n"
   ]
  },
  {
   "cell_type": "code",
   "execution_count": 1,
   "metadata": {},
   "outputs": [
    {
     "name": "stdout",
     "output_type": "stream",
     "text": [
      "Requirement already satisfied: numpy in d:\\anaconda\\envs\\data_ana\\lib\\site-packages (2.0.2)\n",
      "Requirement already satisfied: pandas in d:\\anaconda\\envs\\data_ana\\lib\\site-packages (2.2.3)\n",
      "Requirement already satisfied: scikit-learn in d:\\anaconda\\envs\\data_ana\\lib\\site-packages (1.6.1)\n",
      "Requirement already satisfied: matplotlib in d:\\anaconda\\envs\\data_ana\\lib\\site-packages (3.9.4)\n",
      "Requirement already satisfied: seaborn in d:\\anaconda\\envs\\data_ana\\lib\\site-packages (0.13.2)\n",
      "Requirement already satisfied: lifelines in d:\\anaconda\\envs\\data_ana\\lib\\site-packages (0.30.0)\n",
      "Requirement already satisfied: python-dateutil>=2.8.2 in d:\\anaconda\\envs\\data_ana\\lib\\site-packages (from pandas) (2.9.0.post0)\n",
      "Requirement already satisfied: pytz>=2020.1 in d:\\anaconda\\envs\\data_ana\\lib\\site-packages (from pandas) (2025.1)\n",
      "Requirement already satisfied: tzdata>=2022.7 in d:\\anaconda\\envs\\data_ana\\lib\\site-packages (from pandas) (2025.1)\n",
      "Requirement already satisfied: scipy>=1.6.0 in d:\\anaconda\\envs\\data_ana\\lib\\site-packages (from scikit-learn) (1.13.1)\n",
      "Requirement already satisfied: joblib>=1.2.0 in d:\\anaconda\\envs\\data_ana\\lib\\site-packages (from scikit-learn) (1.4.2)\n",
      "Requirement already satisfied: threadpoolctl>=3.1.0 in d:\\anaconda\\envs\\data_ana\\lib\\site-packages (from scikit-learn) (3.5.0)\n",
      "Requirement already satisfied: contourpy>=1.0.1 in d:\\anaconda\\envs\\data_ana\\lib\\site-packages (from matplotlib) (1.3.0)\n",
      "Requirement already satisfied: cycler>=0.10 in d:\\anaconda\\envs\\data_ana\\lib\\site-packages (from matplotlib) (0.12.1)\n",
      "Requirement already satisfied: fonttools>=4.22.0 in d:\\anaconda\\envs\\data_ana\\lib\\site-packages (from matplotlib) (4.55.8)\n",
      "Requirement already satisfied: kiwisolver>=1.3.1 in d:\\anaconda\\envs\\data_ana\\lib\\site-packages (from matplotlib) (1.4.7)\n",
      "Requirement already satisfied: packaging>=20.0 in d:\\anaconda\\envs\\data_ana\\lib\\site-packages (from matplotlib) (24.2)\n",
      "Requirement already satisfied: pillow>=8 in d:\\anaconda\\envs\\data_ana\\lib\\site-packages (from matplotlib) (11.1.0)\n",
      "Requirement already satisfied: pyparsing>=2.3.1 in d:\\anaconda\\envs\\data_ana\\lib\\site-packages (from matplotlib) (3.2.1)\n",
      "Requirement already satisfied: importlib-resources>=3.2.0 in d:\\anaconda\\envs\\data_ana\\lib\\site-packages (from matplotlib) (6.5.2)\n",
      "Requirement already satisfied: autograd>=1.5 in d:\\anaconda\\envs\\data_ana\\lib\\site-packages (from lifelines) (1.7.0)\n",
      "Requirement already satisfied: autograd-gamma>=0.3 in d:\\anaconda\\envs\\data_ana\\lib\\site-packages (from lifelines) (0.5.0)\n",
      "Requirement already satisfied: formulaic>=0.2.2 in d:\\anaconda\\envs\\data_ana\\lib\\site-packages (from lifelines) (1.1.1)\n",
      "Requirement already satisfied: interface-meta>=1.2.0 in d:\\anaconda\\envs\\data_ana\\lib\\site-packages (from formulaic>=0.2.2->lifelines) (1.3.0)\n",
      "Requirement already satisfied: typing-extensions>=4.2.0 in d:\\anaconda\\envs\\data_ana\\lib\\site-packages (from formulaic>=0.2.2->lifelines) (4.12.2)\n",
      "Requirement already satisfied: wrapt>=1.0 in d:\\anaconda\\envs\\data_ana\\lib\\site-packages (from formulaic>=0.2.2->lifelines) (1.17.2)\n",
      "Requirement already satisfied: zipp>=3.1.0 in d:\\anaconda\\envs\\data_ana\\lib\\site-packages (from importlib-resources>=3.2.0->matplotlib) (3.21.0)\n",
      "Requirement already satisfied: six>=1.5 in d:\\anaconda\\envs\\data_ana\\lib\\site-packages (from python-dateutil>=2.8.2->pandas) (1.16.0)\n",
      "Note: you may need to restart the kernel to use updated packages.\n"
     ]
    }
   ],
   "source": [
    "pip install numpy pandas scikit-learn matplotlib seaborn lifelines"
   ]
  },
  {
   "cell_type": "code",
   "execution_count": 2,
   "metadata": {},
   "outputs": [],
   "source": [
    "import warnings\n",
    "import numpy as np\n",
    "import pandas as pd\n",
    "import seaborn as sns\n",
    "import matplotlib.pyplot as plt\n",
    "\n",
    "from sklearn.cluster import KMeans\n",
    "from sklearn.metrics import silhouette_score\n",
    "from sklearn.preprocessing import scale\n",
    "\n",
    "warnings.filterwarnings('ignore')"
   ]
  },
  {
   "cell_type": "markdown",
   "metadata": {},
   "source": [
    "## Converting R Code to Python 🔄\n",
    "Below is a simplified Python implementation of the SEE method using common packages like pandas, numpy, and scikit-learn"
   ]
  },
  {
   "cell_type": "markdown",
   "metadata": {},
   "source": [
    "### Simulating a Dataset\n",
    "After this step, customer_features data frame is created where each row is a customer and the columns include the features that we want to visualize."
   ]
  },
  {
   "cell_type": "code",
   "execution_count": 12,
   "metadata": {},
   "outputs": [
    {
     "name": "stdout",
     "output_type": "stream",
     "text": [
      "Records Set:\n",
      "     pnr       eksd   ATC\n",
      "0      1 2020-03-03  medA\n",
      "1      1 2020-10-16  medA\n",
      "2      1 2020-12-08  medB\n",
      "3      1 2021-05-28  medB\n",
      "4      1 2021-12-25  medA\n",
      "..   ...        ...   ...\n",
      "555  100 2020-08-14  medA\n",
      "556  100 2020-10-20  medA\n",
      "557  100 2021-03-26  medB\n",
      "558  100 2022-02-15  medA\n",
      "559  100 2022-02-25  medA\n",
      "\n",
      "[560 rows x 3 columns]\n"
     ]
    }
   ],
   "source": [
    "#######################\n",
    "# 1. Simulate Data\n",
    "#######################\n",
    "np.random.seed(42)\n",
    "\n",
    "def simulate_patient_data(num_patients):\n",
    "    rows_per_patient = np.random.randint(2, 10, size=num_patients)  # each patient has 2-9 events\n",
    "    records = []\n",
    "    for p in range(num_patients):\n",
    "        pnr = p + 1\n",
    "        # random starting date\n",
    "        base_date = pd.Timestamp('2020-01-01') + pd.Timedelta(days=np.random.randint(0, 100))\n",
    "        # create a series of 2-9 events\n",
    "        dates = [base_date]\n",
    "        for i in range(rows_per_patient[p] - 1):\n",
    "            gap_days = np.random.randint(10, 350)  # random interval\n",
    "            new_date = dates[-1] + pd.Timedelta(days=gap_days)\n",
    "            dates.append(new_date)\n",
    "        for d in dates:\n",
    "            records.append((pnr, d))\n",
    "    return records\n",
    "\n",
    "# Simulate data for 100 patients\n",
    "records_set = simulate_patient_data(100)\n",
    "\n",
    "# Create a single dataframe\n",
    "df = pd.DataFrame(records_set, columns=['pnr', 'eksd'])\n",
    "df = df.sort_values(by=['pnr', 'eksd']).reset_index(drop=True)\n",
    "\n",
    "# Randomly assign each row to either 'medA' or 'medB'\n",
    "df['ATC'] = np.random.choice(['medA', 'medB'], size=len(df))\n",
    "\n",
    "# Print the records for verification\n",
    "print(\"Records Set:\")\n",
    "print(df)\n"
   ]
  },
  {
   "cell_type": "markdown",
   "metadata": {},
   "source": [
    "### Clustering and Visualization\n",
    "Once the multiple numeric columns (e.g., total_spend, total_invoices, avg_spend_per_invoice, total_items, avg_days_diff) is made, we then start to cluster each in a multi‑dimensional space and then reduce to 2D representation for a nice cluster plot visualization."
   ]
  },
  {
   "cell_type": "code",
   "execution_count": 18,
   "metadata": {},
   "outputs": [
    {
     "name": "stdout",
     "output_type": "stream",
     "text": [
      "     pnr       eksd   ATC  prev_eksd  event.interval  cluster  median  \\\n",
      "1      1 2021-12-25  medA 2020-10-16           435.0     -1.0   214.0   \n",
      "2      1 2022-09-30  medA 2021-12-25           279.0      1.0   214.0   \n",
      "3      1 2024-05-15  medA 2022-09-30           593.0     -1.0   214.0   \n",
      "5      2 2022-11-26  medA 2021-07-10           504.0     -1.0   214.0   \n",
      "8      4 2021-05-27  medA 2020-09-08           261.0      1.0   214.0   \n",
      "..   ...        ...   ...        ...             ...      ...     ...   \n",
      "185   96 2022-10-11  medA 2022-05-10           154.0      1.0   214.0   \n",
      "186   96 2023-09-12  medA 2022-10-11           336.0      1.0   214.0   \n",
      "187   96 2024-04-25  medA 2023-09-12           226.0      1.0   214.0   \n",
      "191  100 2022-02-15  medA 2020-10-20           483.0     -1.0   214.0   \n",
      "192  100 2022-02-25  medA 2022-02-15            10.0      0.0    48.0   \n",
      "\n",
      "     Duration  P Number  \n",
      "1         435         1  \n",
      "2         279         2  \n",
      "3         593         3  \n",
      "5         504         1  \n",
      "8         261         1  \n",
      "..        ...       ...  \n",
      "185       154         1  \n",
      "186       336         2  \n",
      "187       226         3  \n",
      "191       483         1  \n",
      "192        10         2  \n",
      "\n",
      "[119 rows x 9 columns]\n"
     ]
    },
    {
     "data": {
      "image/png": "[encoded data removed]",
      "text/plain": [
       "<Figure size 600x500 with 1 Axes>"
      ]
     },
     "metadata": {},
     "output_type": "display_data"
    },
    {
     "name": "stdout",
     "output_type": "stream",
     "text": [
      "     pnr       eksd   ATC  prev_eksd  event.interval  cluster  median  \\\n",
      "1      1 2023-08-09  medB 2021-05-28           803.0     -1.0   250.0   \n",
      "4      3 2021-07-01  medB 2020-10-28           246.0      1.0   250.0   \n",
      "5      3 2022-08-14  medB 2021-07-01           409.0      1.0   250.0   \n",
      "7      4 2023-06-13  medB 2022-01-29           500.0     -1.0   250.0   \n",
      "9      6 2022-11-23  medB 2020-08-15           830.0     -1.0   250.0   \n",
      "..   ...        ...   ...        ...             ...      ...     ...   \n",
      "170   95 2022-06-12  medB 2021-04-09           429.0     -1.0   250.0   \n",
      "174   98 2022-09-08  medB 2020-11-26           651.0     -1.0   250.0   \n",
      "176   99 2021-01-12  medB 2020-11-25            48.0      0.0    69.0   \n",
      "177   99 2021-11-25  medB 2021-01-12           317.0      1.0   250.0   \n",
      "178   99 2022-04-24  medB 2021-11-25           150.0      1.0   250.0   \n",
      "\n",
      "     Duration  P Number  \n",
      "1         803         1  \n",
      "4         246         1  \n",
      "5         409         2  \n",
      "7         500         1  \n",
      "9         830         1  \n",
      "..        ...       ...  \n",
      "170       429         1  \n",
      "174       651         1  \n",
      "176        48         1  \n",
      "177       317         2  \n",
      "178       150         3  \n",
      "\n",
      "[99 rows x 9 columns]\n"
     ]
    },
    {
     "data": {
      "image/png": "[encoded data removed]",
      "text/plain": [
       "<Figure size 600x500 with 1 Axes>"
      ]
     },
     "metadata": {},
     "output_type": "display_data"
    }
   ],
   "source": [
    "#######################\n",
    "# 2. Define the \"See\" Function in Python\n",
    "#######################\n",
    "def See_py(data, atc_code='medA'):\n",
    "    # Filter by ATC code\n",
    "    df_sub = data[data['ATC'] == atc_code].copy()\n",
    "    \n",
    "    # Sort by pnr, eksd and compute event.interval\n",
    "    df_sub = df_sub.sort_values(by=['pnr','eksd'])\n",
    "    df_sub['prev_eksd'] = df_sub.groupby('pnr')['eksd'].shift(1)\n",
    "    # drop rows where there's no previous date\n",
    "    df_sub = df_sub.dropna(subset=['prev_eksd'])\n",
    "    \n",
    "    df_sub['event.interval'] = (df_sub['eksd'] - df_sub['prev_eksd']).dt.days.astype(float)\n",
    "    \n",
    "    # 2a. Build empirical distribution\n",
    "    sorted_intervals = np.sort(df_sub['event.interval'].values)\n",
    "    # compute empirical CDF\n",
    "    cdf_vals = np.arange(1, len(sorted_intervals)+1) / len(sorted_intervals)\n",
    "    \n",
    "    # 2b. Keep intervals <= 80th percentile (top 20% truncated)\n",
    "    cutoff_index = np.searchsorted(cdf_vals, 0.8)\n",
    "    cutoff_value = sorted_intervals[cutoff_index] if cutoff_index < len(sorted_intervals) else sorted_intervals[-1]\n",
    "    \n",
    "    df_trunc = df_sub[df_sub['event.interval'] <= cutoff_value].copy()\n",
    "    \n",
    "    # 2c. K-means Clustering with Silhouette-based K selection\n",
    "    # We'll cluster log(event.interval)\n",
    "    intervals_log = np.log(df_trunc['event.interval'].values.reshape(-1,1))\n",
    "    # scale for numeric stability\n",
    "    intervals_scaled = scale(intervals_log)\n",
    "    \n",
    "    possible_ks = range(2,6)  # try k=2..5\n",
    "    best_k = 2\n",
    "    best_sil = -999\n",
    "    for k in possible_ks:\n",
    "        km = KMeans(n_clusters=k, random_state=123).fit(intervals_scaled)\n",
    "        labels = km.labels_\n",
    "        sil = silhouette_score(intervals_scaled, labels)\n",
    "        if sil > best_sil:\n",
    "            best_sil = sil\n",
    "            best_k = k\n",
    "    \n",
    "    # run final K-means with best_k\n",
    "    final_km = KMeans(n_clusters=best_k, random_state=123).fit(intervals_scaled)\n",
    "    df_trunc['cluster'] = final_km.labels_\n",
    "    \n",
    "    # 2d. For each cluster, find min, max, median on the exponentiated scale\n",
    "    # we can do this by grouping\n",
    "    cluster_stats = df_trunc.groupby('cluster')['event.interval'].agg(['min','max','median']).reset_index()\n",
    "    \n",
    "    # Merge cluster stats back to the truncated df\n",
    "    df_trunc = df_trunc.merge(cluster_stats, on='cluster', how='left', suffixes=('','_clust'))\n",
    "    \n",
    "    # 2e. Now map cluster stats to the entire original subset\n",
    "    # For any row in the original subset not in df_trunc, we assign the \"most frequent cluster's median\"\n",
    "    freq_cluster = df_trunc['cluster'].value_counts().idxmax()\n",
    "    fallback_median = cluster_stats.loc[cluster_stats['cluster']==freq_cluster,'median'].values[0]\n",
    "    \n",
    "    # Merge cluster info back\n",
    "    df_merged = df_sub.merge(df_trunc[['pnr','eksd','cluster','median']], on=['pnr','eksd'], how='left')\n",
    "    \n",
    "    # Fill missing cluster/median with fallback\n",
    "    df_merged['cluster'] = df_merged['cluster'].fillna(-1)\n",
    "    df_merged['median'] = df_merged['median'].fillna(fallback_median)\n",
    "    \n",
    "    # Return final\n",
    "    return df_merged\n",
    "\n",
    "#######################\n",
    "# 3. \"see_assumption\" in Python: Boxplot of intervals vs. p_number\n",
    "#######################\n",
    "def see_assumption_py(data):\n",
    "    # Sort by pnr, eksd and compute a 'p_number' index\n",
    "    df_temp = data.copy()\n",
    "    df_temp = df_temp.sort_values(by=['pnr','eksd'])\n",
    "    df_temp['prev_eksd'] = df_temp.groupby('pnr')['eksd'].shift(1)\n",
    "    df_temp.dropna(subset=['prev_eksd'], inplace=True)\n",
    "    df_temp['Duration'] = (df_temp['eksd'] - df_temp['prev_eksd']).dt.days\n",
    "    \n",
    "    # Within each pnr, create a sequence\n",
    "    df_temp['P Number'] = df_temp.groupby('pnr').cumcount() + 1\n",
    "    print(df_temp)\n",
    "    \n",
    "    # Boxplot\n",
    "    fig, ax = plt.subplots(figsize=(6,5))\n",
    "    sns.boxplot(data=df_temp, x='P Number', y='Duration',ax=ax, color='gray')\n",
    "    \n",
    "    # Compute \"median of medians\"\n",
    "    medians_of_medians = df_temp.groupby('pnr')['Duration'].median().median()\n",
    "    \n",
    "    # Horizontal red dashed line\n",
    "    ax.axhline(medians_of_medians, color='red', linestyle='--')\n",
    "    atc_code = data['ATC'].iloc[0]\n",
    "    ax.set_title(f\"Boxplot of Durations vs P Number for {atc_code}\\nRed Dashed = Median of Medians\")\n",
    "    plt.tight_layout()\n",
    "    plt.show()\n",
    "\n",
    "#######################\n",
    "# 4. Run the functions with \"medA\" and \"medB\"\n",
    "#######################\n",
    "df_clustered = See_py(df)\n",
    "see_assumption_py(df_clustered)\n",
    "\n",
    "df_clustered = See_py(df, \"medB\")\n",
    "see_assumption_py(df_clustered)"
   ]
  },
  {
   "cell_type": "markdown",
   "metadata": {},
   "source": [
    "## Insights for the Sessa K Means Model 📈\n",
    "The data used in this case is from Online Retail II of UC Irvine Machine Learning Repository. It has all transactions happening for a UK-based and registered online retail from December 1, 2009 to December 9, 2011. They mainly sell unique all-occasion gifts."
   ]
  },
  {
   "cell_type": "markdown",
   "metadata": {},
   "source": [
    "## Substituting K-Means with an Alternative Clustering Algorithm 🔄\n",
    "K-means has well-known disadvantages—it assumes clusters are spherical, it needs to predetermine the number of clusters, and is very sensitive to outliers. To overcome these issues, you could try using DBSCAN, which can automatically identify the number of clusters and detect noise."
   ]
  },
  {
   "cell_type": "code",
   "execution_count": null,
   "metadata": {},
   "outputs": [],
   "source": [
    "from sklearn.cluster import DBSCAN\n",
    "\n",
    "# Use DBSCAN on the standardized data\n",
    "dbscan = DBSCAN(eps=0.5, min_samples=5)\n",
    "labels_db = dbscan.fit_predict(X)\n",
    "\n",
    "# Filter out noise points (label = -1)\n",
    "mask = labels_db != -1\n",
    "X_db = X[mask]\n",
    "labels_db = labels_db[mask]\n",
    "\n",
    "# Create a DataFrame for DBSCAN results\n",
    "db_df = pd.DataFrame({\n",
    "    'days_diff': trimmed_diffs[mask],\n",
    "    'cluster': labels_db\n",
    "})\n",
    "\n",
    "# Compute median durations for each DBSCAN cluster\n",
    "db_cluster_medians = db_df.groupby('cluster')['days_diff'].median()\n",
    "print(\"Median durations by DBSCAN cluster:\")\n",
    "print(db_cluster_medians)\n",
    "\n",
    "# Visualize the clustering results\n",
    "plt.scatter(X, np.zeros_like(X), c=labels_db, cmap='viridis')\n",
    "plt.xlabel('Standardized Temporal Difference')\n",
    "plt.title('DBSCAN Clustering of Temporal Differences')\n",
    "plt.show()"
   ]
  }
 ],
 "metadata": {
  "kernelspec": {
   "display_name": "data_ana",
   "language": "python",
   "name": "python3"
  },
  "language_info": {
   "codemirror_mode": {
    "name": "ipython",
    "version": 3
   },
   "file_extension": ".py",
   "mimetype": "text/x-python",
   "name": "python",
   "nbconvert_exporter": "python",
   "pygments_lexer": "ipython3",
   "version": "3.9.21"
  }
 },
 "nbformat": 4,
 "nbformat_minor": 2
}
