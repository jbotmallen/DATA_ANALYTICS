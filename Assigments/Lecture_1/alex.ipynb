{
 "cells": [
  {
   "cell_type": "markdown",
   "id": "c417ffde-058c-4326-a0f5-c7065e16c474",
   "metadata": {},
   "source": [
    "# Balanced risk set matching implementation on OASIS dataset\n",
    "Submitted by: Alex Abainza & Mark Allen Jugalbot<br/>\n",
    "CS3203 Data Analytics"
   ]
  },
  {
   "cell_type": "markdown",
   "id": "5de9a817-ccf2-4e69-b4ef-b4483a8e8f83",
   "metadata": {},
   "source": [
    "## Reading dataset"
   ]
  },
  {
   "cell_type": "code",
   "execution_count": 1,
   "id": "5661bbda",
   "metadata": {},
   "outputs": [
    {
     "name": "stdout",
     "output_type": "stream",
     "text": [
      "Note: you may need to restart the kernel to use updated packages.\n"
     ]
    },
    {
     "name": "stderr",
     "output_type": "stream",
     "text": [
      "ERROR: Could not find a version that satisfies the requirement statsmodel (from versions: none)\n",
      "ERROR: No matching distribution found for statsmodel\n"
     ]
    }
   ],
   "source": [
    "pip install statsmodel"
   ]
  },
  {
   "cell_type": "code",
   "execution_count": null,
   "id": "12ca101a-ef2d-4bbb-a765-26cb09f7135f",
   "metadata": {},
   "outputs": [],
   "source": [
    "import pandas as pd\n",
    "import numpy as np\n",
    "import scipy.stats as stats\n",
    "import statsmodels.formula.api as smf"
   ]
  },
  {
   "cell_type": "code",
   "execution_count": null,
   "id": "2277fc14-9bef-423c-a984-5782fe1a38fd",
   "metadata": {},
   "outputs": [],
   "source": [
    "df = pd.read_csv(\"oasis_dataset.csv\")\n",
    "df.head()"
   ]
  },
  {
   "cell_type": "code",
   "execution_count": null,
   "id": "85b6941a-71a2-4a76-b826-0f4d345b6453",
   "metadata": {},
   "outputs": [],
   "source": [
    "df.info()\n",
    "df.head(10)"
   ]
  },
  {
   "cell_type": "markdown",
   "id": "588ea40d-900d-4a80-af95-3f069b70acb7",
   "metadata": {},
   "source": [
    "## Data Preprocessing"
   ]
  },
  {
   "cell_type": "code",
   "execution_count": 63,
   "id": "1dc74f6b-9123-4741-85f9-db0fe0e3c5fb",
   "metadata": {},
   "outputs": [],
   "source": [
    "df.drop(columns=[\"entry_number\"], inplace=True)"
   ]
  },
  {
   "cell_type": "code",
   "execution_count": null,
   "id": "95a57839-93c1-43e1-b8ee-5e7b166c0257",
   "metadata": {},
   "outputs": [],
   "source": [
    "df.head()"
   ]
  },
  {
   "cell_type": "code",
   "execution_count": 65,
   "id": "25f0f504-fdff-4ea5-bd28-da5b131e6cc0",
   "metadata": {},
   "outputs": [],
   "source": [
    "df.sort_values(by=[\"subject_id\", \"visit\"], inplace=True)\n",
    "df[\"m_f\"] = df[\"m_f\"].astype(\"category\")\n"
   ]
  },
  {
   "cell_type": "code",
   "execution_count": null,
   "id": "d81b6f31-43bc-40d5-871e-e15a9122ad4a",
   "metadata": {},
   "outputs": [],
   "source": [
    "print(df['ses'].value_counts())\n",
    "# ses values which are -1 are likely empty\n",
    "df[\"ses\"] = df[\"ses\"].replace(-1, np.nan)"
   ]
  },
  {
   "cell_type": "code",
   "execution_count": null,
   "id": "4a5725f1-54e0-4e67-9a44-f09556a3e403",
   "metadata": {},
   "outputs": [],
   "source": [
    "df.head()"
   ]
  },
  {
   "cell_type": "code",
   "execution_count": null,
   "id": "703d2211-1c8c-43e6-8565-6c8cb626098b",
   "metadata": {},
   "outputs": [],
   "source": [
    "age_stats = df[\"age\"].describe()\n",
    "educ_stats = df[\"educ\"].describe()\n",
    "\n",
    "age_stats, educ_stats\n"
   ]
  },
  {
   "cell_type": "code",
   "execution_count": null,
   "id": "ceaf9edd-d02d-48ff-9f94-239b5e009d89",
   "metadata": {},
   "outputs": [],
   "source": [
    "print(\"Missing values per column:\")\n",
    "print(df.isnull().sum())"
   ]
  },
  {
   "cell_type": "code",
   "execution_count": 70,
   "id": "7e36d9d4-98a4-41f8-b670-39da27e8e45e",
   "metadata": {},
   "outputs": [],
   "source": [
    "# identify patients who had a change of time of ad - likely to have been diagnosed\n",
    "df[\"is_diagnosed\"] = np.where(df[\"time_of_ad\"].isin([2, 3]), 1, 0)\n"
   ]
  },
  {
   "cell_type": "code",
   "execution_count": 71,
   "id": "b6d0a8ef-ebef-456f-97d9-bce8bf546f84",
   "metadata": {},
   "outputs": [],
   "source": [
    "df = df.rename(columns={\n",
    "    'subject_id': 'participant_id',\n",
    "    'visit': 'visit_number',\n",
    "    'time_of_ad': 'assessment_time',\n",
    "    'm_f': 'gender',\n",
    "    'educ': 'education_years',\n",
    "    'ses': 'socioeconomic_status',\n",
    "    'age': 'age_at_visit',\n",
    "    'mr_delay': 'mri_scan_delay',\n",
    "    'e_tiv': 'estimated_total_intracranial_volume',\n",
    "    'n_wbv': 'normalized_brain_volume',\n",
    "    'asf': 'atlas_scaling_factor',\n",
    "    'is_diagnosed': 'diagnosed'\n",
    "})\n"
   ]
  },
  {
   "cell_type": "code",
   "execution_count": 72,
   "id": "1f2f4b39-6800-452c-a82a-0ab1424fbcab",
   "metadata": {},
   "outputs": [],
   "source": [
    "df[\"gender\"] = df[\"gender\"].map({\"F\":0, \"M\":1})"
   ]
  },
  {
   "cell_type": "code",
   "execution_count": null,
   "id": "d0b9d043-5f1c-43e0-be4f-5f66aeb3f6b8",
   "metadata": {},
   "outputs": [],
   "source": [
    "df.head(20)"
   ]
  },
  {
   "cell_type": "markdown",
   "id": "14ba901a-4638-44e3-9c69-37ee28d0267b",
   "metadata": {},
   "source": [
    "## Mini EDA\n",
    "Goal: Identify which variables seem to have an effect on the if diagnosed"
   ]
  },
  {
   "cell_type": "code",
   "execution_count": 74,
   "id": "906830dd-a146-4515-8032-363b0decda84",
   "metadata": {},
   "outputs": [],
   "source": [
    "categorical_vars = [\"gender\", \"socioeconomic_status\"]\n",
    "discrete_vars = ['education_years', 'age_at_visit']\n",
    "continuous_vars = ['estimated_total_intracranial_volume', 'normalized_brain_volume', 'atlas_scaling_factor']\n",
    "p_values = {}\n"
   ]
  },
  {
   "cell_type": "markdown",
   "id": "b1daeb08-7559-4b6f-abe1-fdcc2b47276d",
   "metadata": {},
   "source": [
    "### On categorical values (gender, socioeconomic status)\n",
    "Using continuous variables (e.g. estimated_total_intracranial_volume, normalized_brain_volume, atlas_scaling_factor\n"
   ]
  },
  {
   "cell_type": "code",
   "execution_count": 75,
   "id": "b3c7b967-7085-4565-8814-9804ecbd6349",
   "metadata": {},
   "outputs": [],
   "source": [
    "\n",
    "for var in categorical_vars:\n",
    "    contingency_table = pd.crosstab(df[var], df['diagnosed'])\n",
    "    chi2, p, dof, expected = stats.chi2_contingency(contingency_table)\n",
    "    p_values[var] = p\n"
   ]
  },
  {
   "cell_type": "markdown",
   "id": "a0aa92fb-7e2a-4915-9806-11582c8242b7",
   "metadata": {},
   "source": [
    "### On discrete and categorical values\n"
   ]
  },
  {
   "cell_type": "code",
   "execution_count": 76,
   "id": "b88951b3-0498-4f2d-a159-9ccbc69002ea",
   "metadata": {},
   "outputs": [],
   "source": [
    "for var in discrete_vars + continuous_vars:\n",
    "    t_stat, p = stats.ttest_ind(df[df['diagnosed'] == 1][var], df[df['diagnosed'] == 0][var], equal_var=False)\n",
    "    p_values[var] = p"
   ]
  },
  {
   "cell_type": "code",
   "execution_count": null,
   "id": "2070c7e7-e805-4e02-bf83-91b195f14d5e",
   "metadata": {},
   "outputs": [],
   "source": [
    "formula = \"diagnosed ~ \" + \" + \".join(categorical_vars + discrete_vars + continuous_vars)\n",
    "logit_model = smf.logit(formula, data=df).fit()\n",
    "logit_p_values = logit_model.pvalues.to_dict()"
   ]
  },
  {
   "cell_type": "markdown",
   "id": "803ba27c-71af-4830-89e1-1af7e807a9d3",
   "metadata": {},
   "source": [
    "## Visualizing data for possible relationships on categorical variables (economic status, gender)"
   ]
  },
  {
   "cell_type": "code",
   "execution_count": null,
   "id": "4d0ea2bb-be6b-4f2f-acf0-6244a7556851",
   "metadata": {
    "scrolled": true
   },
   "outputs": [],
   "source": [
    "import pandas as pd\n",
    "import seaborn as sns\n",
    "import matplotlib.pyplot as plt\n",
    "\n",
    "sns.set_style(\"whitegrid\")  \n",
    "\n",
    "fig, axes = plt.subplots(1, 2, figsize=(10, 8))\n",
    "\n",
    "sns.countplot(data=df, x=\"socioeconomic_status\", hue=\"diagnosed\", ax=axes[0])\n",
    "axes[0].set_title(\"Distribution of Socioeconomic Status\")\n",
    "axes[0].set_xlabel(\"Socioeconomic Status\")\n",
    "\n",
    "sns.countplot(data=df, x=\"gender\", hue=\"diagnosed\", ax=axes[1])\n",
    "axes[1].set_title(\"Distribution of Gender\")\n",
    "axes[1].set_xlabel(\"Gender (0 = Female, 1 = Male)\")\n",
    "\n",
    "# Adjust layout\n",
    "plt.tight_layout()\n",
    "plt.show()\n"
   ]
  },
  {
   "cell_type": "markdown",
   "id": "ffd7bce2-69f4-437b-8daa-f0f87cea19a0",
   "metadata": {},
   "source": [
    "### Observations\n",
    "#### Socioeconomic Status (Bottom Left: Bar Chart)\n",
    "\n",
    "Socioeconomic Status does not seem to strongly differentiate diagnosed from undiagnosed patients.\n",
    "\n",
    "\n",
    "#### Gender (Bottom Right: Bar Chart)\n",
    "\n",
    "The proportion of diagnosed individuals appears similar for both genders."
   ]
  },
  {
   "cell_type": "markdown",
   "id": "8ade3142-67cb-4569-8be1-bc387de95aa4",
   "metadata": {},
   "source": [
    "## Visualizing data for possible relationships on discrete variables (age, years of education)"
   ]
  },
  {
   "cell_type": "code",
   "execution_count": null,
   "id": "98d4b316-c447-44e0-b5b3-c173f6000126",
   "metadata": {},
   "outputs": [],
   "source": [
    "import seaborn as sns\n",
    "import matplotlib.pyplot as plt\n",
    "\n",
    "sns.set_style(\"whitegrid\")  \n",
    "\n",
    "# Create 1 row, 2 columns of subplots\n",
    "fig, axes = plt.subplots(1, 2, figsize=(12, 6))\n",
    "\n",
    "# Plot Age at Visit distribution\n",
    "sns.histplot(df, x=\"age_at_visit\", hue=\"diagnosed\", bins=20, kde=True, stat=\"density\", ax=axes[0], alpha=0.5)\n",
    "axes[0].set_title(\"Distribution of Age at Visit\")\n",
    "axes[0].set_xlabel(\"Age at Visit\")\n",
    "\n",
    "# Plot Years of Education distribution\n",
    "sns.histplot(df, x=\"education_years\", hue=\"diagnosed\", bins=15, kde=True, stat=\"density\", ax=axes[1], alpha=0.5)\n",
    "axes[1].set_title(\"Distribution of Years of Education\")\n",
    "axes[1].set_xlabel(\"Years of Education\")\n",
    "\n",
    "# Adjust layout\n",
    "plt.tight_layout()\n",
    "plt.show()\n"
   ]
  },
  {
   "cell_type": "markdown",
   "id": "0d334239-9cbc-4044-a324-1e8e02311982",
   "metadata": {},
   "source": [
    "### Observations\n",
    "#### Age at Visit Graph\n",
    "\n",
    "Diagnosed patients are more concentrated at 70-75 years old. Undiagnosed patients have a wider spread peaking around 75-80 years old.<br/>\n",
    "\n",
    "Since the distribution is not identical, age could possibly influence diagnosed.\n",
    "\n",
    "#### Years of Education\n",
    "\n",
    "Most individuals, both diagnosed and undiagnosed, have 12-16 years of education. There is a significant overlap, meaning education may not be a strong distinguishing factor.\n",
    "\n",
    "\n"
   ]
  },
  {
   "cell_type": "markdown",
   "id": "c42cd28b-c227-43ba-89f2-d937de655839",
   "metadata": {},
   "source": [
    "## Visualizing data for possible relationships on continuous variables (estimated_total_intracranial_volume, normalized_brain_volume, atlas_scaling_factor)"
   ]
  },
  {
   "cell_type": "code",
   "execution_count": null,
   "id": "88af7498-b93b-4f49-9146-87591399ffaf",
   "metadata": {},
   "outputs": [],
   "source": [
    "import matplotlib.pyplot as plt\n",
    "import seaborn as sns\n",
    "\n",
    "\n",
    "sns.set_style(\"whitegrid\")\n",
    "\n",
    "\n",
    "for col in ['estimated_total_intracranial_volume', 'normalized_brain_volume', 'atlas_scaling_factor']:\n",
    "    plt.figure(figsize=(8, 5))\n",
    "    sns.kdeplot(df_diagnosed[col], label=\"Diagnosed\", fill=True, alpha=0.5)\n",
    "    sns.kdeplot(df_undiagnosed[col], label=\"Undiagnosed\", fill=True, alpha=0.5)\n",
    "    plt.title(f'Distribution of {col}')\n",
    "    plt.xlabel(col)\n",
    "    plt.ylabel(\"Density\")\n",
    "    plt.legend()\n",
    "    plt.show()\n"
   ]
  },
  {
   "cell_type": "markdown",
   "id": "a0c2d1ad-bc30-41b4-b614-d3ce01a46110",
   "metadata": {},
   "source": [
    "#### If there is a significant difference, it will be added as a covariate\n",
    "From the results below, it is the **age at visit** and the **normalized brain volume** that seem to have an impact on diagnosed"
   ]
  },
  {
   "cell_type": "code",
   "execution_count": null,
   "id": "064ba431-2f61-4f6d-b12f-382d39cb9e3b",
   "metadata": {},
   "outputs": [],
   "source": [
    "from sklearn.tree import DecisionTreeClassifier\n",
    "from sklearn.model_selection import train_test_split\n",
    "from sklearn.metrics import accuracy_score\n",
    "import numpy as np\n",
    "\n",
    "# Define X (features) and y (target)\n",
    "X = df[['estimated_total_intracranial_volume', 'normalized_brain_volume', 'atlas_scaling_factor']]\n",
    "y = df['diagnosed']\n",
    "\n",
    "# Train-test split\n",
    "X_train, X_test, y_train, y_test = train_test_split(X, y, test_size=0.2, random_state=42)\n",
    "\n",
    "# Train decision tree\n",
    "tree = DecisionTreeClassifier(random_state=42)\n",
    "tree.fit(X_train, y_train)\n",
    "\n",
    "# Get feature importances\n",
    "feature_importances = tree.feature_importances_\n",
    "\n",
    "# Print results\n",
    "for var, importance in zip(X.columns, feature_importances):\n",
    "    print(f\"Feature Importance for {var}: {importance:.3f}\")\n",
    "\n",
    "# Evaluate model\n",
    "y_pred = tree.predict(X_test)\n",
    "print(f\"\\nDecision Tree Accuracy: {accuracy_score(y_test, y_pred):.3f}\")\n"
   ]
  },
  {
   "cell_type": "code",
   "execution_count": null,
   "id": "24b403e7-14de-440e-8826-c427769657e3",
   "metadata": {},
   "outputs": [],
   "source": [
    "from sklearn.tree import DecisionTreeClassifier\n",
    "from sklearn.model_selection import train_test_split\n",
    "\n",
    "# Define features and target variable\n",
    "X = df[['age_at_visit', 'gender', 'education_years', 'socioeconomic_status']]\n",
    "y = df['diagnosed']\n",
    "\n",
    "# Train-test split\n",
    "X_train, X_test, y_train, y_test = train_test_split(X, y, test_size=0.2, random_state=42)\n",
    "\n",
    "# Train decision tree\n",
    "tree = DecisionTreeClassifier(random_state=42)\n",
    "tree.fit(X_train, y_train)\n",
    "\n",
    "# Get feature importances\n",
    "feature_importances = tree.feature_importances_\n",
    "\n",
    "# Print results\n",
    "for var, importance in zip(X.columns, feature_importances):\n",
    "    print(f\"Feature Importance for {var}: {importance:.3f}\")\n"
   ]
  },
  {
   "cell_type": "code",
   "execution_count": null,
   "id": "da6cf3e2-2e29-49b5-88ad-6be93381c750",
   "metadata": {},
   "outputs": [],
   "source": [
    "results_df = pd.DataFrame({\n",
    "    'Variable': list(p_values.keys()),\n",
    "    'P-Value (T-Test/Chi-Square)': list(p_values.values()),\n",
    "    'P-Value (Logistic Regression)': [logit_p_values.get(var, None) for var in p_values.keys()]\n",
    "})\n",
    "\n",
    "# Add significance flag\n",
    "results_df['Significant? (p < 0.05)'] = results_df.apply(lambda row: '✅ Yes' if row['P-Value (T-Test/Chi-Square)'] < 0.05 or row['P-Value (Logistic Regression)'] < 0.05 else '🚫 No', axis=1)\n",
    "\n",
    "# Display results\n",
    "print(results_df)"
   ]
  },
  {
   "cell_type": "markdown",
   "id": "4592b773-4b6c-4b4b-9c5e-ce637623dedf",
   "metadata": {},
   "source": [
    "Using discrete variables"
   ]
  },
  {
   "cell_type": "markdown",
   "id": "544341f5-ef0f-40b0-9c0a-e0891ffa3037",
   "metadata": {},
   "source": [
    "## Performing balanced risk set matching"
   ]
  },
  {
   "cell_type": "code",
   "execution_count": null,
   "id": "9534aaf7-7850-4197-b52c-951c393f9565",
   "metadata": {},
   "outputs": [],
   "source": [
    "import pandas as pd\n",
    "import numpy as np\n",
    "from scipy.spatial.distance import cdist\n",
    "from scipy.linalg import inv\n",
    "\n",
    "# Select only necessary columns\n",
    "matching_df = df[['participant_id', 'diagnosed', 'age_at_visit', 'normalized_brain_volume']]\n",
    "\n",
    "# Split into diagnosed (cases) and undiagnosed (controls)\n",
    "cases = matching_df[matching_df['diagnosed'] == 1].copy()\n",
    "controls = matching_df[matching_df['diagnosed'] == 0].copy()\n",
    "\n",
    "# Compute inverse covariance matrix for Mahalanobis distance\n",
    "cov_matrix = np.cov(matching_df[['age_at_visit', 'normalized_brain_volume']].T)\n",
    "inv_cov_matrix = inv(cov_matrix)\n",
    "\n",
    "# Function to compute Mahalanobis distance\n",
    "def mahalanobis_distance(row1, row2):\n",
    "    return np.sqrt((row1 - row2) @ inv_cov_matrix @ (row1 - row2).T)\n",
    "\n",
    "# Match each diagnosed patient to the closest undiagnosed patient\n",
    "matched_pairs = []\n",
    "for _, case in cases.iterrows():\n",
    "    case_vector = case[['age_at_visit', 'normalized_brain_volume']].values.reshape(1, -1)\n",
    "    control_vectors = controls[['age_at_visit', 'normalized_brain_volume']].values\n",
    "    \n",
    "    distances = cdist(case_vector, control_vectors, metric='mahalanobis', VI=inv_cov_matrix)\n",
    "    best_match_index = np.argmin(distances)\n",
    "    \n",
    "    best_match = controls.iloc[best_match_index]\n",
    "    matched_pairs.append((case['participant_id'], best_match['participant_id'], distances[0, best_match_index]))\n",
    "\n",
    "# Convert to DataFrame\n",
    "matched_df = pd.DataFrame(matched_pairs, columns=['case_id', 'control_id', 'mahalanobis_distance'])\n",
    "\n",
    "# Save matched data\n",
    "matched_df.to_csv(\"matched_data.csv\", index=False)\n",
    "\n",
    "print(\"✅ Matching complete. Results saved to 'matched_data.csv'\")\n"
   ]
  },
  {
   "cell_type": "code",
   "execution_count": null,
   "id": "5a95db2d-0736-4449-8b59-458e121edcd3",
   "metadata": {},
   "outputs": [],
   "source": [
    "import seaborn as sns\n",
    "import matplotlib.pyplot as plt\n",
    "\n",
    "# Merge matched cases and controls\n",
    "matched_cases = df[df['participant_id'].isin(matched_df['case_id'])]\n",
    "matched_controls = df[df['participant_id'].isin(matched_df['control_id'])]\n",
    "\n",
    "# Plot distributions before and after matching\n",
    "for col in ['age_at_visit', 'normalized_brain_volume']:\n",
    "    plt.figure(figsize=(8, 5))\n",
    "    sns.kdeplot(matched_cases[col], label=\"Cases (Diagnosed)\", fill=True, alpha=0.5)\n",
    "    sns.kdeplot(matched_controls[col], label=\"Controls (Undiagnosed)\", fill=True, alpha=0.5)\n",
    "    plt.title(f'Distribution of {col} After Matching')\n",
    "    plt.xlabel(col)\n",
    "    plt.ylabel(\"Density\")\n",
    "    plt.legend()\n",
    "    plt.show()\n"
   ]
  },
  {
   "cell_type": "code",
   "execution_count": null,
   "id": "58105012-bd30-4a90-a875-6b1c59776ce5",
   "metadata": {},
   "outputs": [],
   "source": [
    "import seaborn as sns\n",
    "import matplotlib.pyplot as plt\n",
    "\n",
    "# Load refined matches\n",
    "matched_cases = df[df['participant_id'].isin(matched_df['case_id'])]\n",
    "matched_controls = df[df['participant_id'].isin(matched_df['control_id'])]\n",
    "\n",
    "# Plot KDE for age and brain volume after refined matching\n",
    "for col in ['age_at_visit', 'normalized_brain_volume']:\n",
    "    plt.figure(figsize=(8, 5))\n",
    "    sns.kdeplot(matched_cases[col], label=\"Cases (Diagnosed)\", fill=True, alpha=0.5)\n",
    "    sns.kdeplot(matched_controls[col], label=\"Controls (Undiagnosed)\", fill=True, alpha=0.5)\n",
    "    plt.title(f'Distribution of {col} After Refined Matching')\n",
    "    plt.xlabel(col)\n",
    "    plt.ylabel(\"Density\")\n",
    "    plt.legend()\n",
    "    plt.show()\n"
   ]
  },
  {
   "cell_type": "code",
   "execution_count": null,
   "id": "140dd663-5a76-4a60-a033-51a226af1034",
   "metadata": {},
   "outputs": [],
   "source": [
    "from scipy.spatial.distance import mahalanobis\n",
    "from scipy.linalg import inv\n",
    "\n",
    "# Compute inverse covariance matrix for Mahalanobis distance\n",
    "cov_matrix = np.cov(df[['age_at_visit', 'normalized_brain_volume']].T)\n",
    "inv_cov_matrix = inv(cov_matrix)\n",
    "\n",
    "# Define a caliper (threshold for Mahalanobis distance)\n",
    "CALIPER = 0.1  # Adjust based on dataset distribution\n",
    "\n",
    "# Perform matching with caliper\n",
    "matched_pairs = []\n",
    "for _, case in cases.iterrows():\n",
    "    case_vector = case[['age_at_visit', 'normalized_brain_volume']].values.reshape(1, -1)\n",
    "    control_vectors = controls[['age_at_visit', 'normalized_brain_volume']].values\n",
    "    \n",
    "    distances = cdist(case_vector, control_vectors, metric='mahalanobis', VI=inv_cov_matrix)\n",
    "    min_distance = np.min(distances)\n",
    "    \n",
    "    if min_distance < CALIPER:  # Only match if within caliper\n",
    "        best_match_index = np.argmin(distances)\n",
    "        best_match = controls.iloc[best_match_index]\n",
    "        matched_pairs.append((case['participant_id'], best_match['participant_id'], min_distance))\n",
    "\n",
    "# Convert to DataFrame\n",
    "matched_df = pd.DataFrame(matched_pairs, columns=['case_id', 'control_id', 'mahalanobis_distance'])\n",
    "\n",
    "# Save refined matches\n",
    "matched_df.to_csv(\"refined_matched_data.csv\", index=False)\n",
    "print(\"✅ Matching complete with caliper. Results saved to 'refined_matched_data.csv'\")\n"
   ]
  },
  {
   "cell_type": "code",
   "execution_count": null,
   "id": "2416c64b-32c8-4bce-9831-d0ccc3ae8dcd",
   "metadata": {},
   "outputs": [],
   "source": [
    "from sklearn.linear_model import LogisticRegression\n",
    "from sklearn.neighbors import NearestNeighbors\n",
    "\n",
    "# Define variables for PSM\n",
    "X = df[['age_at_visit', 'normalized_brain_volume']]\n",
    "y = df['diagnosed']\n",
    "\n",
    "# Fit logistic regression to get propensity scores\n",
    "logit = LogisticRegression()\n",
    "df['propensity_score'] = logit.fit(X, y).predict_proba(X)[:, 1]\n",
    "\n",
    "# Separate cases and controls based on propensity score\n",
    "cases = df[df['diagnosed'] == 1].copy()\n",
    "controls = df[df['diagnosed'] == 0].copy()\n",
    "\n",
    "# Match each case to the closest control based on propensity score\n",
    "nn = NearestNeighbors(n_neighbors=1, metric=\"euclidean\")\n",
    "nn.fit(controls[['propensity_score']])\n",
    "distances, indices = nn.kneighbors(cases[['propensity_score']])\n",
    "\n",
    "# Store matched pairs\n",
    "matched_pairs = [(cases.iloc[i]['participant_id'], controls.iloc[indices[i][0]]['participant_id'], distances[i][0]) for i in range(len(cases))]\n",
    "\n",
    "# Save results\n",
    "matched_df = pd.DataFrame(matched_pairs, columns=['case_id', 'control_id', 'propensity_distance'])\n",
    "matched_df.to_csv(\"psm_matched_data.csv\", index=False)\n",
    "print(\"✅ Propensity Score Matching complete. Results saved to 'psm_matched_data.csv'\")\n"
   ]
  },
  {
   "cell_type": "code",
   "execution_count": null,
   "id": "acadd2f6-ee00-478a-b5b2-d7c545f1ace4",
   "metadata": {},
   "outputs": [],
   "source": [
    "import seaborn as sns\n",
    "import matplotlib.pyplot as plt\n",
    "\n",
    "# Load refined matches\n",
    "matched_cases = df[df['participant_id'].isin(matched_df['case_id'])]\n",
    "matched_controls = df[df['participant_id'].isin(matched_df['control_id'])]\n",
    "\n",
    "# Plot KDE for age and brain volume after refined matching\n",
    "for col in ['age_at_visit', 'normalized_brain_volume']:\n",
    "    plt.figure(figsize=(8, 5))\n",
    "    sns.kdeplot(matched_cases[col], label=\"Cases (Diagnosed)\", fill=True, alpha=0.5)\n",
    "    sns.kdeplot(matched_controls[col], label=\"Controls (Undiagnosed)\", fill=True, alpha=0.5)\n",
    "    plt.title(f'Distribution of {col} After Refined Matching')\n",
    "    plt.xlabel(col)\n",
    "    plt.ylabel(\"Density\")\n",
    "    plt.legend()\n",
    "    plt.show()\n"
   ]
  },
  {
   "cell_type": "code",
   "execution_count": null,
   "id": "77d0f96d-77bf-4465-bae3-848b47422296",
   "metadata": {},
   "outputs": [],
   "source": []
  },
  {
   "cell_type": "code",
   "execution_count": null,
   "id": "83dd0946-228d-43a3-887d-7c96b28be2a5",
   "metadata": {},
   "outputs": [],
   "source": [
    "plt.figure(figsize=(8, 5))\n",
    "plt.scatter(matched_cases['age_at_visit'], matched_controls['age_at_visit'], alpha=0.5)\n",
    "plt.xlabel(\"Case Age at Visit\")\n",
    "plt.ylabel(\"Control Age at Visit\")\n",
    "plt.title(\"Age at Visit: Case vs. Matched Control\")\n",
    "plt.show()\n"
   ]
  },
  {
   "cell_type": "code",
   "execution_count": 96,
   "id": "66c93612-16bb-4538-b54b-29a7c7e5f88f",
   "metadata": {},
   "outputs": [],
   "source": [
    "import pandas as pd\n",
    "import numpy as np\n",
    "import seaborn as sns\n",
    "import matplotlib.pyplot as plt\n",
    "from scipy.spatial.distance import cdist\n",
    "from scipy.linalg import inv\n",
    "from scipy.stats import ttest_ind\n",
    "\n",
    "# Load dataset\n",
    "# df = pd.read_csv(\"your_dataset.csv\")\n",
    "\n",
    "# Define selected covariates\n",
    "covariates = ['education_years', 'age_at_visit', 'estimated_total_intracranial_volume', \n",
    "              'normalized_brain_volume', 'atlas_scaling_factor']\n",
    "\n",
    "# Optional: Add socioeconomic_status if needed\n",
    "use_ses = False  # Set to True if testing SES inclusion\n",
    "if use_ses:\n",
    "    covariates.append('socioeconomic_status')\n",
    "\n",
    "# Separate diagnosed (cases) and undiagnosed (controls)\n",
    "cases = df[df['diagnosed'] == 1].copy()\n",
    "controls = df[df['diagnosed'] == 0].copy()\n"
   ]
  },
  {
   "cell_type": "code",
   "execution_count": null,
   "id": "99008e58-7365-48f6-8500-ce9711a2bf0d",
   "metadata": {},
   "outputs": [],
   "source": [
    "# Compute inverse covariance matrix for Mahalanobis distance\n",
    "cov_matrix = np.cov(df[covariates].T)\n",
    "inv_cov_matrix = inv(cov_matrix)\n",
    "\n",
    "# Function to compute Mahalanobis distance\n",
    "def mahalanobis_distance(row1, row2):\n",
    "    return np.sqrt((row1 - row2) @ inv_cov_matrix @ (row1 - row2).T)\n",
    "\n",
    "# Match each diagnosed patient to the closest undiagnosed patient\n",
    "matched_pairs = []\n",
    "for _, case in cases.iterrows():\n",
    "    case_vector = case[covariates].values.reshape(1, -1)\n",
    "    control_vectors = controls[covariates].values\n",
    "    \n",
    "    distances = cdist(case_vector, control_vectors, metric='mahalanobis', VI=inv_cov_matrix)\n",
    "    best_match_index = np.argmin(distances)\n",
    "    \n",
    "    best_match = controls.iloc[best_match_index]\n",
    "    matched_pairs.append((case['participant_id'], best_match['participant_id'], distances[0, best_match_index]))\n",
    "\n",
    "# Convert to DataFrame\n",
    "matched_df = pd.DataFrame(matched_pairs, columns=['case_id', 'control_id', 'mahalanobis_distance'])\n",
    "\n",
    "# Save matched dataset\n",
    "matched_df.to_csv(\"matched_data.csv\", index=False)\n",
    "print(\"✅ Matching complete. Results saved to 'matched_data.csv'\")\n"
   ]
  },
  {
   "cell_type": "code",
   "execution_count": null,
   "id": "ca1bbbb1-38a6-4864-b85b-6396b1512a72",
   "metadata": {},
   "outputs": [],
   "source": [
    "# Load matched data\n",
    "matched_cases = df[df['participant_id'].isin(matched_df['case_id'])]\n",
    "matched_controls = df[df['participant_id'].isin(matched_df['control_id'])]\n",
    "\n",
    "# Plot distributions\n",
    "for col in covariates:\n",
    "    plt.figure(figsize=(8, 5))\n",
    "    sns.kdeplot(matched_cases[col], label=\"Cases (Diagnosed)\", fill=True, alpha=0.5)\n",
    "    sns.kdeplot(matched_controls[col], label=\"Controls (Undiagnosed)\", fill=True, alpha=0.5)\n",
    "    plt.title(f'Distribution of {col} After Matching')\n",
    "    plt.xlabel(col)\n",
    "    plt.ylabel(\"Density\")\n",
    "    plt.legend()\n",
    "    plt.show()\n"
   ]
  },
  {
   "cell_type": "code",
   "execution_count": null,
   "id": "0f61d331-b917-4832-9421-3b4d76bb2678",
   "metadata": {},
   "outputs": [],
   "source": [
    "matched_df"
   ]
  }
 ],
 "metadata": {
  "kernelspec": {
   "display_name": "data_ana",
   "language": "python",
   "name": "python3"
  },
  "language_info": {
   "codemirror_mode": {
    "name": "ipython",
    "version": 3
   },
   "file_extension": ".py",
   "mimetype": "text/x-python",
   "name": "python",
   "nbconvert_exporter": "python",
   "pygments_lexer": "ipython3",
   "version": "3.9.21"
  }
 },
 "nbformat": 4,
 "nbformat_minor": 5
}
