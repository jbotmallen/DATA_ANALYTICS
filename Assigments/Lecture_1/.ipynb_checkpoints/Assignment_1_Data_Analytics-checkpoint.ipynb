{
 "cells": [
  {
   "cell_type": "markdown",
   "metadata": {},
   "source": [
    "# Lecture 1 - Programming Assignment\n",
    "\n",
    "## Data Set\n"
   ]
  },
  {
   "cell_type": "code",
   "execution_count": 1,
   "metadata": {},
   "outputs": [
    {
     "ename": "FileNotFoundError",
     "evalue": "[Errno 2] No such file or directory: 'oasis_dataset.csv'",
     "output_type": "error",
     "traceback": [
      "\u001b[1;31m---------------------------------------------------------------------------\u001b[0m",
      "\u001b[1;31mFileNotFoundError\u001b[0m                         Traceback (most recent call last)",
      "Cell \u001b[1;32mIn[1], line 4\u001b[0m\n\u001b[0;32m      1\u001b[0m \u001b[38;5;28;01mimport\u001b[39;00m \u001b[38;5;21;01mpandas\u001b[39;00m \u001b[38;5;28;01mas\u001b[39;00m \u001b[38;5;21;01mpd\u001b[39;00m\n\u001b[0;32m      3\u001b[0m \u001b[38;5;66;03m# Read the CSV file\u001b[39;00m\n\u001b[1;32m----> 4\u001b[0m df \u001b[38;5;241m=\u001b[39m \u001b[43mpd\u001b[49m\u001b[38;5;241;43m.\u001b[39;49m\u001b[43mread_csv\u001b[49m\u001b[43m(\u001b[49m\u001b[38;5;124;43m'\u001b[39;49m\u001b[38;5;124;43moasis_dataset.csv\u001b[39;49m\u001b[38;5;124;43m'\u001b[39;49m\u001b[43m)\u001b[49m\n\u001b[0;32m      6\u001b[0m \u001b[38;5;66;03m# Print the dataframe\u001b[39;00m\n\u001b[0;32m      7\u001b[0m \u001b[38;5;28mprint\u001b[39m(df)\n",
      "File \u001b[1;32md:\\Anaconda\\envs\\data_ana\\lib\\site-packages\\pandas\\io\\parsers\\readers.py:1026\u001b[0m, in \u001b[0;36mread_csv\u001b[1;34m(filepath_or_buffer, sep, delimiter, header, names, index_col, usecols, dtype, engine, converters, true_values, false_values, skipinitialspace, skiprows, skipfooter, nrows, na_values, keep_default_na, na_filter, verbose, skip_blank_lines, parse_dates, infer_datetime_format, keep_date_col, date_parser, date_format, dayfirst, cache_dates, iterator, chunksize, compression, thousands, decimal, lineterminator, quotechar, quoting, doublequote, escapechar, comment, encoding, encoding_errors, dialect, on_bad_lines, delim_whitespace, low_memory, memory_map, float_precision, storage_options, dtype_backend)\u001b[0m\n\u001b[0;32m   1013\u001b[0m kwds_defaults \u001b[38;5;241m=\u001b[39m _refine_defaults_read(\n\u001b[0;32m   1014\u001b[0m     dialect,\n\u001b[0;32m   1015\u001b[0m     delimiter,\n\u001b[1;32m   (...)\u001b[0m\n\u001b[0;32m   1022\u001b[0m     dtype_backend\u001b[38;5;241m=\u001b[39mdtype_backend,\n\u001b[0;32m   1023\u001b[0m )\n\u001b[0;32m   1024\u001b[0m kwds\u001b[38;5;241m.\u001b[39mupdate(kwds_defaults)\n\u001b[1;32m-> 1026\u001b[0m \u001b[38;5;28;01mreturn\u001b[39;00m \u001b[43m_read\u001b[49m\u001b[43m(\u001b[49m\u001b[43mfilepath_or_buffer\u001b[49m\u001b[43m,\u001b[49m\u001b[43m \u001b[49m\u001b[43mkwds\u001b[49m\u001b[43m)\u001b[49m\n",
      "File \u001b[1;32md:\\Anaconda\\envs\\data_ana\\lib\\site-packages\\pandas\\io\\parsers\\readers.py:620\u001b[0m, in \u001b[0;36m_read\u001b[1;34m(filepath_or_buffer, kwds)\u001b[0m\n\u001b[0;32m    617\u001b[0m _validate_names(kwds\u001b[38;5;241m.\u001b[39mget(\u001b[38;5;124m\"\u001b[39m\u001b[38;5;124mnames\u001b[39m\u001b[38;5;124m\"\u001b[39m, \u001b[38;5;28;01mNone\u001b[39;00m))\n\u001b[0;32m    619\u001b[0m \u001b[38;5;66;03m# Create the parser.\u001b[39;00m\n\u001b[1;32m--> 620\u001b[0m parser \u001b[38;5;241m=\u001b[39m TextFileReader(filepath_or_buffer, \u001b[38;5;241m*\u001b[39m\u001b[38;5;241m*\u001b[39mkwds)\n\u001b[0;32m    622\u001b[0m \u001b[38;5;28;01mif\u001b[39;00m chunksize \u001b[38;5;129;01mor\u001b[39;00m iterator:\n\u001b[0;32m    623\u001b[0m     \u001b[38;5;28;01mreturn\u001b[39;00m parser\n",
      "File \u001b[1;32md:\\Anaconda\\envs\\data_ana\\lib\\site-packages\\pandas\\io\\parsers\\readers.py:1620\u001b[0m, in \u001b[0;36mTextFileReader.__init__\u001b[1;34m(self, f, engine, **kwds)\u001b[0m\n\u001b[0;32m   1617\u001b[0m     \u001b[38;5;28mself\u001b[39m\u001b[38;5;241m.\u001b[39moptions[\u001b[38;5;124m\"\u001b[39m\u001b[38;5;124mhas_index_names\u001b[39m\u001b[38;5;124m\"\u001b[39m] \u001b[38;5;241m=\u001b[39m kwds[\u001b[38;5;124m\"\u001b[39m\u001b[38;5;124mhas_index_names\u001b[39m\u001b[38;5;124m\"\u001b[39m]\n\u001b[0;32m   1619\u001b[0m \u001b[38;5;28mself\u001b[39m\u001b[38;5;241m.\u001b[39mhandles: IOHandles \u001b[38;5;241m|\u001b[39m \u001b[38;5;28;01mNone\u001b[39;00m \u001b[38;5;241m=\u001b[39m \u001b[38;5;28;01mNone\u001b[39;00m\n\u001b[1;32m-> 1620\u001b[0m \u001b[38;5;28mself\u001b[39m\u001b[38;5;241m.\u001b[39m_engine \u001b[38;5;241m=\u001b[39m \u001b[38;5;28;43mself\u001b[39;49m\u001b[38;5;241;43m.\u001b[39;49m\u001b[43m_make_engine\u001b[49m\u001b[43m(\u001b[49m\u001b[43mf\u001b[49m\u001b[43m,\u001b[49m\u001b[43m \u001b[49m\u001b[38;5;28;43mself\u001b[39;49m\u001b[38;5;241;43m.\u001b[39;49m\u001b[43mengine\u001b[49m\u001b[43m)\u001b[49m\n",
      "File \u001b[1;32md:\\Anaconda\\envs\\data_ana\\lib\\site-packages\\pandas\\io\\parsers\\readers.py:1880\u001b[0m, in \u001b[0;36mTextFileReader._make_engine\u001b[1;34m(self, f, engine)\u001b[0m\n\u001b[0;32m   1878\u001b[0m     \u001b[38;5;28;01mif\u001b[39;00m \u001b[38;5;124m\"\u001b[39m\u001b[38;5;124mb\u001b[39m\u001b[38;5;124m\"\u001b[39m \u001b[38;5;129;01mnot\u001b[39;00m \u001b[38;5;129;01min\u001b[39;00m mode:\n\u001b[0;32m   1879\u001b[0m         mode \u001b[38;5;241m+\u001b[39m\u001b[38;5;241m=\u001b[39m \u001b[38;5;124m\"\u001b[39m\u001b[38;5;124mb\u001b[39m\u001b[38;5;124m\"\u001b[39m\n\u001b[1;32m-> 1880\u001b[0m \u001b[38;5;28mself\u001b[39m\u001b[38;5;241m.\u001b[39mhandles \u001b[38;5;241m=\u001b[39m \u001b[43mget_handle\u001b[49m\u001b[43m(\u001b[49m\n\u001b[0;32m   1881\u001b[0m \u001b[43m    \u001b[49m\u001b[43mf\u001b[49m\u001b[43m,\u001b[49m\n\u001b[0;32m   1882\u001b[0m \u001b[43m    \u001b[49m\u001b[43mmode\u001b[49m\u001b[43m,\u001b[49m\n\u001b[0;32m   1883\u001b[0m \u001b[43m    \u001b[49m\u001b[43mencoding\u001b[49m\u001b[38;5;241;43m=\u001b[39;49m\u001b[38;5;28;43mself\u001b[39;49m\u001b[38;5;241;43m.\u001b[39;49m\u001b[43moptions\u001b[49m\u001b[38;5;241;43m.\u001b[39;49m\u001b[43mget\u001b[49m\u001b[43m(\u001b[49m\u001b[38;5;124;43m\"\u001b[39;49m\u001b[38;5;124;43mencoding\u001b[39;49m\u001b[38;5;124;43m\"\u001b[39;49m\u001b[43m,\u001b[49m\u001b[43m \u001b[49m\u001b[38;5;28;43;01mNone\u001b[39;49;00m\u001b[43m)\u001b[49m\u001b[43m,\u001b[49m\n\u001b[0;32m   1884\u001b[0m \u001b[43m    \u001b[49m\u001b[43mcompression\u001b[49m\u001b[38;5;241;43m=\u001b[39;49m\u001b[38;5;28;43mself\u001b[39;49m\u001b[38;5;241;43m.\u001b[39;49m\u001b[43moptions\u001b[49m\u001b[38;5;241;43m.\u001b[39;49m\u001b[43mget\u001b[49m\u001b[43m(\u001b[49m\u001b[38;5;124;43m\"\u001b[39;49m\u001b[38;5;124;43mcompression\u001b[39;49m\u001b[38;5;124;43m\"\u001b[39;49m\u001b[43m,\u001b[49m\u001b[43m \u001b[49m\u001b[38;5;28;43;01mNone\u001b[39;49;00m\u001b[43m)\u001b[49m\u001b[43m,\u001b[49m\n\u001b[0;32m   1885\u001b[0m \u001b[43m    \u001b[49m\u001b[43mmemory_map\u001b[49m\u001b[38;5;241;43m=\u001b[39;49m\u001b[38;5;28;43mself\u001b[39;49m\u001b[38;5;241;43m.\u001b[39;49m\u001b[43moptions\u001b[49m\u001b[38;5;241;43m.\u001b[39;49m\u001b[43mget\u001b[49m\u001b[43m(\u001b[49m\u001b[38;5;124;43m\"\u001b[39;49m\u001b[38;5;124;43mmemory_map\u001b[39;49m\u001b[38;5;124;43m\"\u001b[39;49m\u001b[43m,\u001b[49m\u001b[43m \u001b[49m\u001b[38;5;28;43;01mFalse\u001b[39;49;00m\u001b[43m)\u001b[49m\u001b[43m,\u001b[49m\n\u001b[0;32m   1886\u001b[0m \u001b[43m    \u001b[49m\u001b[43mis_text\u001b[49m\u001b[38;5;241;43m=\u001b[39;49m\u001b[43mis_text\u001b[49m\u001b[43m,\u001b[49m\n\u001b[0;32m   1887\u001b[0m \u001b[43m    \u001b[49m\u001b[43merrors\u001b[49m\u001b[38;5;241;43m=\u001b[39;49m\u001b[38;5;28;43mself\u001b[39;49m\u001b[38;5;241;43m.\u001b[39;49m\u001b[43moptions\u001b[49m\u001b[38;5;241;43m.\u001b[39;49m\u001b[43mget\u001b[49m\u001b[43m(\u001b[49m\u001b[38;5;124;43m\"\u001b[39;49m\u001b[38;5;124;43mencoding_errors\u001b[39;49m\u001b[38;5;124;43m\"\u001b[39;49m\u001b[43m,\u001b[49m\u001b[43m \u001b[49m\u001b[38;5;124;43m\"\u001b[39;49m\u001b[38;5;124;43mstrict\u001b[39;49m\u001b[38;5;124;43m\"\u001b[39;49m\u001b[43m)\u001b[49m\u001b[43m,\u001b[49m\n\u001b[0;32m   1888\u001b[0m \u001b[43m    \u001b[49m\u001b[43mstorage_options\u001b[49m\u001b[38;5;241;43m=\u001b[39;49m\u001b[38;5;28;43mself\u001b[39;49m\u001b[38;5;241;43m.\u001b[39;49m\u001b[43moptions\u001b[49m\u001b[38;5;241;43m.\u001b[39;49m\u001b[43mget\u001b[49m\u001b[43m(\u001b[49m\u001b[38;5;124;43m\"\u001b[39;49m\u001b[38;5;124;43mstorage_options\u001b[39;49m\u001b[38;5;124;43m\"\u001b[39;49m\u001b[43m,\u001b[49m\u001b[43m \u001b[49m\u001b[38;5;28;43;01mNone\u001b[39;49;00m\u001b[43m)\u001b[49m\u001b[43m,\u001b[49m\n\u001b[0;32m   1889\u001b[0m \u001b[43m\u001b[49m\u001b[43m)\u001b[49m\n\u001b[0;32m   1890\u001b[0m \u001b[38;5;28;01massert\u001b[39;00m \u001b[38;5;28mself\u001b[39m\u001b[38;5;241m.\u001b[39mhandles \u001b[38;5;129;01mis\u001b[39;00m \u001b[38;5;129;01mnot\u001b[39;00m \u001b[38;5;28;01mNone\u001b[39;00m\n\u001b[0;32m   1891\u001b[0m f \u001b[38;5;241m=\u001b[39m \u001b[38;5;28mself\u001b[39m\u001b[38;5;241m.\u001b[39mhandles\u001b[38;5;241m.\u001b[39mhandle\n",
      "File \u001b[1;32md:\\Anaconda\\envs\\data_ana\\lib\\site-packages\\pandas\\io\\common.py:873\u001b[0m, in \u001b[0;36mget_handle\u001b[1;34m(path_or_buf, mode, encoding, compression, memory_map, is_text, errors, storage_options)\u001b[0m\n\u001b[0;32m    868\u001b[0m \u001b[38;5;28;01melif\u001b[39;00m \u001b[38;5;28misinstance\u001b[39m(handle, \u001b[38;5;28mstr\u001b[39m):\n\u001b[0;32m    869\u001b[0m     \u001b[38;5;66;03m# Check whether the filename is to be opened in binary mode.\u001b[39;00m\n\u001b[0;32m    870\u001b[0m     \u001b[38;5;66;03m# Binary mode does not support 'encoding' and 'newline'.\u001b[39;00m\n\u001b[0;32m    871\u001b[0m     \u001b[38;5;28;01mif\u001b[39;00m ioargs\u001b[38;5;241m.\u001b[39mencoding \u001b[38;5;129;01mand\u001b[39;00m \u001b[38;5;124m\"\u001b[39m\u001b[38;5;124mb\u001b[39m\u001b[38;5;124m\"\u001b[39m \u001b[38;5;129;01mnot\u001b[39;00m \u001b[38;5;129;01min\u001b[39;00m ioargs\u001b[38;5;241m.\u001b[39mmode:\n\u001b[0;32m    872\u001b[0m         \u001b[38;5;66;03m# Encoding\u001b[39;00m\n\u001b[1;32m--> 873\u001b[0m         handle \u001b[38;5;241m=\u001b[39m \u001b[38;5;28;43mopen\u001b[39;49m\u001b[43m(\u001b[49m\n\u001b[0;32m    874\u001b[0m \u001b[43m            \u001b[49m\u001b[43mhandle\u001b[49m\u001b[43m,\u001b[49m\n\u001b[0;32m    875\u001b[0m \u001b[43m            \u001b[49m\u001b[43mioargs\u001b[49m\u001b[38;5;241;43m.\u001b[39;49m\u001b[43mmode\u001b[49m\u001b[43m,\u001b[49m\n\u001b[0;32m    876\u001b[0m \u001b[43m            \u001b[49m\u001b[43mencoding\u001b[49m\u001b[38;5;241;43m=\u001b[39;49m\u001b[43mioargs\u001b[49m\u001b[38;5;241;43m.\u001b[39;49m\u001b[43mencoding\u001b[49m\u001b[43m,\u001b[49m\n\u001b[0;32m    877\u001b[0m \u001b[43m            \u001b[49m\u001b[43merrors\u001b[49m\u001b[38;5;241;43m=\u001b[39;49m\u001b[43merrors\u001b[49m\u001b[43m,\u001b[49m\n\u001b[0;32m    878\u001b[0m \u001b[43m            \u001b[49m\u001b[43mnewline\u001b[49m\u001b[38;5;241;43m=\u001b[39;49m\u001b[38;5;124;43m\"\u001b[39;49m\u001b[38;5;124;43m\"\u001b[39;49m\u001b[43m,\u001b[49m\n\u001b[0;32m    879\u001b[0m \u001b[43m        \u001b[49m\u001b[43m)\u001b[49m\n\u001b[0;32m    880\u001b[0m     \u001b[38;5;28;01melse\u001b[39;00m:\n\u001b[0;32m    881\u001b[0m         \u001b[38;5;66;03m# Binary mode\u001b[39;00m\n\u001b[0;32m    882\u001b[0m         handle \u001b[38;5;241m=\u001b[39m \u001b[38;5;28mopen\u001b[39m(handle, ioargs\u001b[38;5;241m.\u001b[39mmode)\n",
      "\u001b[1;31mFileNotFoundError\u001b[0m: [Errno 2] No such file or directory: 'oasis_dataset.csv'"
     ]
    }
   ],
   "source": [
    "import pandas as pd\n",
    "\n",
    "# Read the CSV file\n",
    "df = pd.read_csv('oasis_dataset.csv')\n",
    "\n",
    "# Print the dataframe\n",
    "print(df)"
   ]
  },
  {
   "cell_type": "code",
   "execution_count": null,
   "metadata": {},
   "outputs": [],
   "source": [
    "import warnings\n",
    "\n",
    "warnings.filterwarnings('ignore')"
   ]
  },
  {
   "cell_type": "markdown",
   "metadata": {},
   "source": [
    "## Data Set Summary\n",
    "\n",
    "The <strong>OASIS dataset</strong>, widely used in neuroimaging and medical research, comprises brain imaging data and associated clinical variables. A core aspect of analyzing such datasets involves mitigating confounding variables to ensure robust and reliable conclusions. <strong>Balanced Risk Set Matching (BRSM)</strong> is a statistical technique designed to enhance comparability between groups in observational studies, particularly when studying treatments or conditions that evolve over time. This essay presents a summary of the OASIS dataset, emphasizing how the <strong>Balanced Risk Set Matching</strong> approach aids in addressing biases in observational studies."
   ]
  },
  {
   "cell_type": "code",
   "execution_count": null,
   "metadata": {},
   "outputs": [],
   "source": [
    "import pandas as pd\n",
    "\n",
    "df = pd.read_csv('oasis_dataset.csv', delimiter=',')\n",
    "\n",
    "df.rename(columns={\n",
    "    \"entry_number\": \"Entry Number\",\n",
    "    \"subject_id\": \"Subject ID\",\n",
    "    \"visit\": \"Visit Number\",\n",
    "    \"time_of_ad\": \"Time of AD Diagnosis\",\n",
    "    \"m_f\": \"Gender\",\n",
    "    \"educ\": \"Education (Years)\",\n",
    "    \"ses\": \"Socioeconomic Status\",\n",
    "    \"age\": \"Age\",\n",
    "    \"mr_delay\": \"MRI Delay (Days)\",\n",
    "    \"e_tiv\": \"Estimated Total Intracranial Volume\",\n",
    "    \"n_wbv\": \"Normalized Whole Brain Volume\",\n",
    "    \"asf\": \"Atlas Scaling Factor\"\n",
    "}, inplace=True)\n",
    "\n",
    "# Define a mapping for better readability\n",
    "covariate_labels = {\n",
    "    \"educ\": \"Education (Years)\",\n",
    "    \"ses\": \"Socioeconomic Status\",\n",
    "    \"age\": \"Age\",\n",
    "    \"e_tiv\": \"Estimated Total Intracranial Volume\",\n",
    "    \"n_wbv\": \"Normalized Whole Brain Volume\",\n",
    "    \"asf\": \"Atlas Scaling Factor\"\n",
    "}\n",
    "\n",
    "df.head()\n"
   ]
  },
  {
   "cell_type": "markdown",
   "metadata": {},
   "source": [
    "## Data Preprocessing"
   ]
  },
  {
   "cell_type": "code",
   "execution_count": null,
   "metadata": {},
   "outputs": [],
   "source": [
    "import pandas as pd\n",
    "import numpy as np\n",
    "from scipy.spatial.distance import mahalanobis\n",
    "\n",
    "# Load the dataset\n",
    "df = pd.read_csv(\"oasis_dataset.csv\")\n",
    "\n",
    "# Drop the first unnamed column\n",
    "df = df.drop(columns=df.columns[0])\n",
    "\n",
    "# Handle missing values (if any)\n",
    "df = df.dropna()\n",
    "\n",
    "# Display the first few rows\n",
    "df = df.sort_values(by=[\"subject_id\", \"visit\"]).groupby(\"subject_id\").first().reset_index()\n",
    "\n",
    "print(df)"
   ]
  },
  {
   "cell_type": "markdown",
   "metadata": {},
   "source": [
    "## Matching Based on Covariates"
   ]
  },
  {
   "cell_type": "code",
   "execution_count": null,
   "metadata": {},
   "outputs": [],
   "source": [
    "# Function to calculate Mahalanobis distance\n",
    "def calculate_mahalanobis_distance(df, treated_id, control_id, covariates):\n",
    "    # Extract the rows for the treated and control subjects\n",
    "    treated = df[df['subject_id'] == treated_id][covariates].values.flatten()\n",
    "    control = df[df['subject_id'] == control_id][covariates].values.flatten()\n",
    "    \n",
    "    # Check if the covariates are available for both subjects\n",
    "    if len(treated) == 0 or len(control) == 0:\n",
    "        raise ValueError(f\"Covariates are missing for subject {treated_id} or {control_id}.\")\n",
    "    \n",
    "    # Calculate the covariance matrix and its inverse\n",
    "    cov_matrix = np.cov(df[covariates].T)\n",
    "    inv_cov_matrix = np.linalg.inv(cov_matrix)\n",
    "    \n",
    "    # Calculate the Mahalanobis distance\n",
    "    return mahalanobis(treated, control, inv_cov_matrix)"
   ]
  },
  {
   "cell_type": "markdown",
   "metadata": {},
   "source": [
    "## Optimal Balanced Matching"
   ]
  },
  {
   "cell_type": "code",
   "execution_count": null,
   "metadata": {},
   "outputs": [],
   "source": [
    "import pandas as pd\n",
    "from scipy.spatial.distance import mahalanobis\n",
    "import networkx as nx\n",
    "\n",
    "# Function to perform optimal balanced matching\n",
    "def optimal_balanced_matching(df, treated_ids, control_ids, covariates):\n",
    "    G = nx.DiGraph()\n",
    "    \n",
    "    # Add source and sink nodes\n",
    "    source = 'source'\n",
    "    sink = 'sink'\n",
    "    G.add_node(source)\n",
    "    G.add_node(sink)\n",
    "    \n",
    "    # Add treated and control nodes\n",
    "    for treated_id in treated_ids:\n",
    "        G.add_node(f'treated_{treated_id}')\n",
    "        G.add_edge(source, f'treated_{treated_id}', capacity=1, weight=0)\n",
    "    \n",
    "    for control_id in control_ids:\n",
    "        G.add_node(f'control_{control_id}')\n",
    "        G.add_edge(f'control_{control_id}', sink, capacity=1, weight=0)\n",
    "    \n",
    "    # Add edges between treated and control nodes\n",
    "    for treated_id in treated_ids:\n",
    "        for control_id in control_ids:\n",
    "            try:\n",
    "                distance = calculate_mahalanobis_distance(df, treated_id, control_id, covariates)\n",
    "                G.add_edge(f'treated_{treated_id}', f'control_{control_id}', capacity=1, weight=distance)\n",
    "            except ValueError as e:\n",
    "                print(f\"Skipping pair ({treated_id}, {control_id}): {e}\")\n",
    "    \n",
    "    # Solve the minimum cost flow problem\n",
    "    flow_dict = nx.max_flow_min_cost(G, source, sink)\n",
    "    \n",
    "    # Extract matched pairs\n",
    "    matched_pairs = []\n",
    "    for treated_id in treated_ids:\n",
    "        for control_id in control_ids:\n",
    "            if flow_dict[f'treated_{treated_id}'][f'control_{control_id}'] > 0:\n",
    "                matched_pairs.append((treated_id, control_id))\n",
    "    \n",
    "    return matched_pairs\n",
    "\n",
    "# Load the dataset\n",
    "df = pd.read_csv(\"oasis_dataset.csv\")\n",
    "\n",
    "# Drop the first unnamed column\n",
    "df = df.drop(columns=df.columns[0])\n",
    "\n",
    "#Keep only first visit\n",
    "df = df.sort_values(by=[\"subject_id\", \"visit\"]).groupby(\"subject_id\").first().reset_index()\n",
    "\n",
    "covariates = ['educ', 'ses', 'age', 'e_tiv', 'n_wbv', 'asf']\n",
    "\n",
    "# Treated subjects are those with a non-missing 'time_of_ad' value\n",
    "treated_ids = df[df['time_of_ad'].notna()]['subject_id'].unique().tolist()\n",
    "# Control subjects are those with a missing 'time_of_ad' value\n",
    "control_ids = df[df['time_of_ad'].isna()]['subject_id'].unique().tolist()\n",
    "\n",
    "# Perform optimal balanced matching\n",
    "matched_pairs = optimal_balanced_matching(df, treated_ids, control_ids, covariates)\n",
    "\n",
    "print(\"Matched Pairs after Optimal Balanced Matching\")\n",
    "for matched_pair in matched_pairs:\n",
    "    print(matched_pair)"
   ]
  },
  {
   "cell_type": "markdown",
   "metadata": {},
   "source": [
    "## Check Balance Before and After Matching"
   ]
  },
  {
   "cell_type": "code",
   "execution_count": null,
   "metadata": {},
   "outputs": [],
   "source": [
    "import matplotlib.pyplot as plt\n",
    "import seaborn as sns\n",
    "\n",
    "def plot_covariate_distributions(df, matched_pairs, covariates, covariate_labels):\n",
    "    treated_matched = df[df[\"subject_id\"].isin([pair[0] for pair in matched_pairs])]\n",
    "    control_matched = df[df[\"subject_id\"].isin([pair[1] for pair in matched_pairs])]\n",
    "\n",
    "    fig, axes = plt.subplots(len(covariates), 2, figsize=(12, len(covariates) * 4))\n",
    "\n",
    "    for i, cov in enumerate(covariates):\n",
    "        # Before Matching\n",
    "        sns.histplot(df[df[\"subject_id\"].isin(treated_ids)][cov], kde=True, color=\"blue\", label=\"Treated\", ax=axes[i, 0])\n",
    "        sns.histplot(df[df[\"subject_id\"].isin(control_ids)][cov], kde=True, color=\"red\", label=\"Control\", ax=axes[i, 0])\n",
    "        axes[i, 0].set_title(f\"Before Matching: {covariate_labels[cov]}\")\n",
    "        axes[i, 0].set_xlabel(covariate_labels[cov])\n",
    "        axes[i, 0].legend()\n",
    "\n",
    "        # After Matching\n",
    "        sns.histplot(treated_matched[cov], kde=True, color=\"blue\", label=\"Treated (Matched)\", ax=axes[i, 1])\n",
    "        sns.histplot(control_matched[cov], kde=True, color=\"red\", label=\"Control (Matched)\", ax=axes[i, 1])\n",
    "        axes[i, 1].set_title(f\"After Matching: {covariate_labels[cov]}\")\n",
    "        axes[i, 1].set_xlabel(covariate_labels[cov])\n",
    "        axes[i, 1].legend()\n",
    "\n",
    "    plt.tight_layout()\n",
    "    plt.show()\n",
    "\n",
    "plot_covariate_distributions(df, matched_pairs, covariates, covariate_labels)\n"
   ]
  },
  {
   "cell_type": "markdown",
   "metadata": {},
   "source": [
    "## Visualize Matched Pairs as a Bipartite Graph"
   ]
  },
  {
   "cell_type": "code",
   "execution_count": null,
   "metadata": {},
   "outputs": [],
   "source": [
    "import networkx as nx\n",
    "import matplotlib.pyplot as plt\n",
    "\n",
    "def plot_matched_pairs(matched_pairs):\n",
    "    G = nx.Graph()\n",
    "    \n",
    "    # Add nodes for treated and control groups\n",
    "    treated_nodes = [f\"T_{t}\" for t, c in matched_pairs]\n",
    "    control_nodes = [f\"C_{c}\" for t, c in matched_pairs]\n",
    "    \n",
    "    G.add_nodes_from(treated_nodes, bipartite=0)\n",
    "    G.add_nodes_from(control_nodes, bipartite=1)\n",
    "    \n",
    "    # Add edges between matched pairs\n",
    "    edges = [(f\"T_{t}\", f\"C_{c}\") for t, c in matched_pairs]\n",
    "    G.add_edges_from(edges)\n",
    "    \n",
    "    # Draw the graph\n",
    "    plt.figure(figsize=(10, 6))\n",
    "    pos = nx.bipartite_layout(G, treated_nodes)  # Position treated nodes on one side and control nodes on the other\n",
    "    nx.draw(G, pos, with_labels=True, node_color=[\"blue\" if n in treated_nodes else \"red\" for n in G.nodes()],\n",
    "            edge_color=\"gray\", node_size=500, font_size=10)\n",
    "    plt.title(\"Balanced Risk Set Matched Pairs\")\n",
    "    plt.show()\n",
    "\n",
    "# Call the function to plot the matched pairs\n",
    "plot_matched_pairs(matched_pairs)\n"
   ]
  },
  {
   "cell_type": "markdown",
   "metadata": {},
   "source": [
    "## Sensitivity Analysis for Hidden Bias"
   ]
  },
  {
   "cell_type": "code",
   "execution_count": 2,
   "metadata": {},
   "outputs": [
    {
     "ename": "NameError",
     "evalue": "name 'matched_pairs' is not defined",
     "output_type": "error",
     "traceback": [
      "\u001b[1;31m---------------------------------------------------------------------------\u001b[0m",
      "\u001b[1;31mNameError\u001b[0m                                 Traceback (most recent call last)",
      "Cell \u001b[1;32mIn[2], line 33\u001b[0m\n\u001b[0;32m     30\u001b[0m     \u001b[38;5;28;01mfor\u001b[39;00m gamma, p_val \u001b[38;5;129;01min\u001b[39;00m results:\n\u001b[0;32m     31\u001b[0m         \u001b[38;5;28mprint\u001b[39m(\u001b[38;5;124mf\u001b[39m\u001b[38;5;124m\"\u001b[39m\u001b[38;5;124mGamma=\u001b[39m\u001b[38;5;132;01m{\u001b[39;00mgamma\u001b[38;5;132;01m}\u001b[39;00m\u001b[38;5;124m: Sensitivity Analysis p-value = \u001b[39m\u001b[38;5;132;01m{\u001b[39;00mp_val\u001b[38;5;132;01m:\u001b[39;00m\u001b[38;5;124m.3f\u001b[39m\u001b[38;5;132;01m}\u001b[39;00m\u001b[38;5;124m\"\u001b[39m)\n\u001b[1;32m---> 33\u001b[0m control_counts \u001b[38;5;241m=\u001b[39m Counter([pair[\u001b[38;5;241m1\u001b[39m] \u001b[38;5;28;01mfor\u001b[39;00m pair \u001b[38;5;129;01min\u001b[39;00m \u001b[43mmatched_pairs\u001b[49m])\n\u001b[0;32m     34\u001b[0m duplicate_controls \u001b[38;5;241m=\u001b[39m [control \u001b[38;5;28;01mfor\u001b[39;00m control, count \u001b[38;5;129;01min\u001b[39;00m control_counts\u001b[38;5;241m.\u001b[39mitems() \u001b[38;5;28;01mif\u001b[39;00m count \u001b[38;5;241m>\u001b[39m \u001b[38;5;241m1\u001b[39m]\n\u001b[0;32m     36\u001b[0m used_controls \u001b[38;5;241m=\u001b[39m \u001b[38;5;28mset\u001b[39m()\n",
      "\u001b[1;31mNameError\u001b[0m: name 'matched_pairs' is not defined"
     ]
    }
   ],
   "source": [
    "import numpy as np\n",
    "from scipy.stats import norm\n",
    "from collections import Counter\n",
    "\n",
    "def sensitivity_analysis(treated, control, covariate):\n",
    "    if len(treated) != len(control):\n",
    "        print(f\"⚠️ Warning: Treated ({len(treated)}) and Control ({len(control)}) groups are not the same size.\")\n",
    "        min_size = min(len(treated), len(control))\n",
    "        treated = treated[:min_size]  # Trim to match sizes\n",
    "        control = control[:min_size]\n",
    "\n",
    "    gamma_values = [1.0, 1.5, 2.0, 2.50, 3.0]  # Levels of hidden bias\n",
    "    results = []\n",
    "    \n",
    "    treated_vals = treated[covariate].values\n",
    "    control_vals = control[covariate].values\n",
    "\n",
    "    mean_diff = np.mean(treated_vals) - np.mean(control_vals)\n",
    "    std_diff = np.std(treated_vals - control_vals)\n",
    "\n",
    "    for gamma in gamma_values:\n",
    "        # Adjust the odds ratio for hidden bias\n",
    "        sensitivity_factor = gamma / (1 + gamma)\n",
    "        adjusted_stat = mean_diff / (std_diff * sensitivity_factor)\n",
    "        \n",
    "        # Calculate p-value\n",
    "        p_value = 1 - norm.cdf(abs(adjusted_stat))\n",
    "        results.append((gamma, p_value))\n",
    "\n",
    "    for gamma, p_val in results:\n",
    "        print(f\"Gamma={gamma}: Sensitivity Analysis p-value = {p_val:.3f}\")\n",
    "\n",
    "control_counts = Counter([pair[1] for pair in matched_pairs])\n",
    "duplicate_controls = [control for control, count in control_counts.items() if count > 1]\n",
    "\n",
    "used_controls = set()\n",
    "filtered_matched_pairs = []\n",
    "\n",
    "for treated, control in matched_pairs:\n",
    "    if control not in used_controls:\n",
    "        filtered_matched_pairs.append((treated, control))\n",
    "        used_controls.add(control)  # Prevent re-use\n",
    "\n",
    "matched_pairs = filtered_matched_pairs\n",
    "\n",
    "# Extract matched treated and control subjects\n",
    "matched_treated_ids = [pair[0] for pair in matched_pairs]\n",
    "matched_control_ids = [pair[1] for pair in matched_pairs]\n",
    "\n",
    "treated_matched = df[df[\"subject_id\"].isin(matched_treated_ids)].copy()\n",
    "control_matched = df[df[\"subject_id\"].isin(matched_control_ids)].copy()\n",
    "\n",
    "# Reset indices for alignment\n",
    "treated_matched = treated_matched.sort_values(\"subject_id\").reset_index(drop=True)\n",
    "control_matched = control_matched.sort_values(\"subject_id\").reset_index(drop=True)\n",
    "\n",
    "# Ensure equal sample sizes\n",
    "min_size = min(len(treated_matched), len(control_matched))\n",
    "treated_matched = treated_matched.iloc[:min_size]\n",
    "control_matched = control_matched.iloc[:min_size]\n",
    "\n",
    "sensitivity_analysis(treated_matched, control_matched, \"age\")"
   ]
  },
  {
   "cell_type": "markdown",
   "metadata": {},
   "source": [
    "## Mahalanobis Distance Heatmap"
   ]
  },
  {
   "cell_type": "code",
   "execution_count": null,
   "metadata": {},
   "outputs": [],
   "source": [
    "import numpy as np\n",
    "import seaborn as sns\n",
    "\n",
    "def plot_mahalanobis_heatmap(df, matched_pairs, covariates):\n",
    "    distances = []\n",
    "    treated_labels = []\n",
    "    \n",
    "    for treated_id, control_id in matched_pairs:\n",
    "        distance = calculate_mahalanobis_distance(df, treated_id, control_id, covariates)\n",
    "        distances.append(distance)\n",
    "        treated_labels.append(treated_id)\n",
    "\n",
    "    # Convert distances into a 2D matrix\n",
    "    dist_matrix = np.array(distances).reshape(len(matched_pairs), 1)\n",
    "\n",
    "    plt.figure(figsize=(10, 6))\n",
    "    sns.heatmap(dist_matrix, annot=True, cmap=\"coolwarm\", xticklabels=[\"Mahalanobis Dist\"], yticklabels=treated_labels)\n",
    "    plt.title(\"Mahalanobis Distance for Matched Pairs\")\n",
    "    plt.ylabel(\"Treated Subjects\")\n",
    "    plt.xlabel(\"Distance\")\n",
    "    plt.show()\n",
    "# Call the function to plot the heatmap\n",
    "plot_mahalanobis_heatmap(df, matched_pairs, covariates)\n"
   ]
  },
  {
   "cell_type": "markdown",
   "metadata": {},
   "source": [
    "## Visualizing Matched Pairs with Boxplots"
   ]
  },
  {
   "cell_type": "code",
   "execution_count": null,
   "metadata": {},
   "outputs": [],
   "source": [
    "from scipy.stats import ranksums\n",
    "\n",
    "def plot_matched_boxplots(treated, control, covariates, covariate_labels):\n",
    "    plt.figure(figsize=(5, len(covariates) * 5))\n",
    "    \n",
    "    for i, cov in enumerate(covariates):\n",
    "        plt.subplot(len(covariates), 1, i + 1)\n",
    "        \n",
    "        # Create a DataFrame for visualization\n",
    "        plot_data = pd.DataFrame({\n",
    "            \"Value\": pd.concat([treated[cov], control[cov]], axis=0),\n",
    "            \"Group\": [\"Treated\"] * len(treated) + [\"Control\"] * len(control)\n",
    "        })\n",
    "        \n",
    "        # Boxplot\n",
    "        sns.boxplot(x=\"Group\", y=\"Value\", data=plot_data, palette={\"Treated\": \"blue\", \"Control\": \"red\"})\n",
    "        \n",
    "        # Perform statistical test (Wilcoxon rank-sum test)\n",
    "        stat, p_value = ranksums(treated[cov], control[cov])\n",
    "        \n",
    "        if p_value < 0.05:\n",
    "            description = f\"❗ There is a **significant difference** (p = {p_value:.3f}) between treated and control groups.\"\n",
    "        else:\n",
    "            description = f\"✅ The treated and control groups are **well-balanced** (p = {p_value:.3f}).\"\n",
    "        \n",
    "        # Add text annotation\n",
    "        print(f\"{covariate_labels[cov]} P-Value difference: {description}\")\n",
    "\n",
    "        # Titles & Labels\n",
    "        plt.title(f\"Figure {i + 1} Matched Distribution: {covariate_labels[cov]}\")\n",
    "        plt.ylabel(covariate_labels[cov])\n",
    "        plt.xlabel(\"Group\")\n",
    "    \n",
    "    plt.tight_layout()\n",
    "    plt.show()\n",
    "\n",
    "matched_treated_ids  = [pair[0] for pair in matched_pairs]\n",
    "matched_control_ids  = [pair[1] for pair in matched_pairs]\n",
    "\n",
    "treated_matched = df[df[\"subject_id\"].isin(matched_treated_ids)]\n",
    "control_matched = df[df[\"subject_id\"].isin(matched_control_ids)]\n",
    "\n",
    "# Call the function to visualize matched pairs\n",
    "plot_matched_boxplots(treated_matched, control_matched, covariates, covariate_labels)"
   ]
  },
  {
   "cell_type": "markdown",
   "metadata": {},
   "source": [
    "## Interpreting Results"
   ]
  }
 ],
 "metadata": {
  "kernelspec": {
   "display_name": "data_ana",
   "language": "python",
   "name": "python3"
  },
  "language_info": {
   "codemirror_mode": {
    "name": "ipython",
    "version": 3
   },
   "file_extension": ".py",
   "mimetype": "text/x-python",
   "name": "python",
   "nbconvert_exporter": "python",
   "pygments_lexer": "ipython3",
   "version": "3.9.21"
  }
 },
 "nbformat": 4,
 "nbformat_minor": 4
}
