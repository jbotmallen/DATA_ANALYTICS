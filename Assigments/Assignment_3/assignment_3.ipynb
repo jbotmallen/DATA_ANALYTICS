{
 "cells": [
  {
   "cell_type": "markdown",
   "metadata": {},
   "source": [
    "# Sessa Empirical Estimator 🧪\n",
    "## Overview & Journal Summary 📄\n",
    "### The Sessa Empirical Estimator (SEE) 📊\n",
    "Sometimes, it is difficult to track prescriptions especially when in the secondary data source there are missing or incomplete dosing details. This is where the SEE comes in. The SEE was introduced as a data-driven method for computing the duration of prescriptions from secondary data sources. The following are the main steps that SEE does.\n",
    "\n",
    "1. **Compute Temporal Distances**: For each patient, calculate the time between consecutive prescription fills.\n",
    "2. **Trim Outliers**: Use the empirical cumulative distribution function (ECDF) to remove the top 20% of these distances (which may be inflated by irregular refill patterns).\n",
    "3. **Random Sampling & Standardization**: Randomly select pairs of consecutive fills, then standardize these temporal distances.\n",
    "4. **Clustering**: Use k‑means clustering (with the optimal number of clusters determined, for example, via silhouette analysis) to group the standardized distances.\n",
    "5. **Duration Estimation**: For each cluster, compute the median temporal distance to serve as the estimated “filled‐prescription duration.”\n",
    "\n",
    "The journals we read had reports of high accuracy and sensitivity when validating the method on both simulated and real-world data. We will now try to replicate the R code of these journals into our Python implementations and then use a different clustering method for comparison and analysis of results."
   ]
  },
  {
   "cell_type": "markdown",
   "metadata": {},
   "source": [
    "## Importing the necessary libraries 📚\n",
    "This step ensures all required libraries are available for data manipulation, visualization, and clustering.\n"
   ]
  },
  {
   "cell_type": "code",
   "execution_count": null,
   "metadata": {},
   "outputs": [],
   "source": [
    "pip install numpy pandas scikit-learn matplotlib seaborn lifelines"
   ]
  },
  {
   "cell_type": "code",
   "execution_count": 2,
   "metadata": {},
   "outputs": [],
   "source": [
    "import warnings\n",
    "import numpy as np\n",
    "import pandas as pd\n",
    "import seaborn as sns\n",
    "import matplotlib.pyplot as plt\n",
    "\n",
    "from sklearn.cluster import KMeans\n",
    "from sklearn.metrics import silhouette_score\n",
    "from sklearn.preprocessing import scale\n",
    "\n",
    "warnings.filterwarnings('ignore')"
   ]
  },
  {
   "cell_type": "markdown",
   "metadata": {},
   "source": [
    "## Converting R Code to Python 🔄\n",
    "Below is a simplified Python implementation of the SEE method using common packages like pandas, numpy, and scikit-learn"
   ]
  },
  {
   "cell_type": "markdown",
   "metadata": {},
   "source": [
    "### Simulating a Dataset 📊\n",
    "In this step, we simulate patient prescription data. Each patient has a series of prescription fill dates, and we randomly assign each prescription to one of two medications (medA or medB). The resulting dataset is stored in a DataFrame called df, which contains columns for patient number (pnr), prescription fill date (eksd), and medication type (ATC)."
   ]
  },
  {
   "cell_type": "code",
   "execution_count": 19,
   "metadata": {},
   "outputs": [
    {
     "name": "stdout",
     "output_type": "stream",
     "text": [
      "Records Set:\n",
      "      pnr       eksd   ATC\n",
      "0       1 2020-03-02  medA\n",
      "1       1 2020-04-20  medA\n",
      "2       1 2020-05-20  medA\n",
      "3       1 2020-06-14  medA\n",
      "4       1 2020-08-07  medB\n",
      "...   ...        ...   ...\n",
      "1620  100 2022-02-17  medA\n",
      "1621  100 2022-03-09  medB\n",
      "1622  100 2022-04-28  medB\n",
      "1623  100 2022-05-10  medA\n",
      "1624  100 2022-06-16  medB\n",
      "\n",
      "[1625 rows x 3 columns]\n"
     ]
    }
   ],
   "source": [
    "#######################\n",
    "# 1. Simulate Data\n",
    "#######################\n",
    "np.random.seed(42)\n",
    "\n",
    "def simulate_patient_data(num_patients):\n",
    "    rows_per_patient = np.random.randint(2, 30, size=num_patients)  # each patient has 2-9 events\n",
    "    records = []\n",
    "    for p in range(num_patients):\n",
    "        pnr = p + 1\n",
    "        # random starting date\n",
    "        base_date = pd.Timestamp('2020-01-01') + pd.Timedelta(days=np.random.randint(0, 100))\n",
    "        # create a series of 2-9 events\n",
    "        dates = [base_date]\n",
    "        for i in range(rows_per_patient[p] - 1):\n",
    "            gap_days = np.random.randint(10, 60)  # random interval\n",
    "            new_date = dates[-1] + pd.Timedelta(days=gap_days)\n",
    "            dates.append(new_date)\n",
    "        for d in dates:\n",
    "            records.append((pnr, d))\n",
    "    return records\n",
    "\n",
    "# Simulate data for 100 patients\n",
    "records_set = simulate_patient_data(100)\n",
    "\n",
    "# Create a single dataframe\n",
    "df = pd.DataFrame(records_set, columns=['pnr', 'eksd'])\n",
    "df = df.sort_values(by=['pnr', 'eksd']).reset_index(drop=True)\n",
    "\n",
    "# Randomly assign each row to either 'medA' or 'medB'\n",
    "df['ATC'] = np.random.choice(['medA', 'medB'], size=len(df))\n",
    "\n",
    "# Print the records for verification\n",
    "print(\"Records Set:\")\n",
    "print(df)"
   ]
  },
  {
   "cell_type": "markdown",
   "metadata": {},
   "source": [
    "### Sessa Empirical Estimator Function 📐\n",
    "The code defines the Sessa Empirical Estimator (SEE) function in Python using k-means clustering. Here are the steps it performs:\n",
    "\n",
    "1. **Filter by ATC Code**: The function filters the dataset to include only the rows corresponding to the specified ATC code (default is 'medA').\n",
    "\n",
    "2. **Sort and Compute Event Intervals**: The filtered data is sorted by patient number (`pnr`) and prescription fill date (`eksd`). The time interval between consecutive prescription fills (`event.interval`) is calculated.\n",
    "\n",
    "3. **Build Empirical Distribution**: The empirical cumulative distribution function (ECDF) of the event intervals is computed, and the top 20% of the intervals are removed to trim outliers.\n",
    "\n",
    "4. **K-means Clustering**: The remaining intervals are standardized and clustered using k-means clustering. The optimal number of clusters is determined using silhouette analysis.\n",
    "\n",
    "5. **Cluster Statistics**: For each cluster, the minimum, maximum, and median event intervals are calculated.\n",
    "\n",
    "6. **Map Cluster Statistics**: The cluster statistics are mapped back to the original dataset. For rows not included in the trimmed dataset, the median interval of the most frequent cluster is assigned.\n",
    "\n",
    "7. **Return Final DataFrame**: The final DataFrame, including the cluster and median interval information, is returned."
   ]
  },
  {
   "cell_type": "code",
   "execution_count": null,
   "metadata": {},
   "outputs": [],
   "source": [
    "#######################\n",
    "# 2. Define the \"See\" Function in Python\n",
    "#######################\n",
    "def See_py(data, atc_code='medA'):\n",
    "    # Filter by ATC code\n",
    "    df_sub = data[data['ATC'] == atc_code].copy()\n",
    "    \n",
    "    \n",
    "    \n",
    "    \n",
    "    # Sort by pnr, eksd and compute event.interval\n",
    "    df_sub = df_sub.sort_values(by=['pnr','eksd'])\n",
    "    df_sub['prev_eksd'] = df_sub.groupby('pnr')['eksd'].shift(1)\n",
    "    # drop rows where there's no previous date\n",
    "    df_sub = df_sub.dropna(subset=['prev_eksd'])\n",
    "    \n",
    "    df_sub['event.interval'] = (df_sub['eksd'] - df_sub['prev_eksd']).dt.days.astype(float)\n",
    "    \n",
    "    \n",
    "    \n",
    "    \n",
    "    # 2a. Build empirical distribution\n",
    "    sorted_intervals = np.sort(df_sub['event.interval'].values)\n",
    "    # compute empirical CDF\n",
    "    cdf_vals = np.arange(1, len(sorted_intervals)+1) / len(sorted_intervals)\n",
    "    \n",
    "    \n",
    "    \n",
    "    \n",
    "    # 2b. Keep intervals <= 80th percentile (top 20% truncated)\n",
    "    cutoff_index = np.searchsorted(cdf_vals, 0.8)\n",
    "    cutoff_value = sorted_intervals[cutoff_index] if cutoff_index < len(sorted_intervals) else sorted_intervals[-1]\n",
    "    \n",
    "    df_trunc = df_sub[df_sub['event.interval'] <= cutoff_value].copy()\n",
    "    \n",
    "    \n",
    "    \n",
    "    \n",
    "    # 2c. K-means Clustering with Silhouette-based K selection\n",
    "    # Truncating the top 20% of the intervals helps\n",
    "    # We'll cluster log(event.interval)\n",
    "    intervals_log = np.log(df_trunc['event.interval'].values.reshape(-1,1))\n",
    "    # scale for numeric stability\n",
    "    intervals_scaled = scale(intervals_log)\n",
    "    \n",
    "    possible_ks = range(2,6)  # try k=2 up to 5\n",
    "    best_k = 2\n",
    "    best_sil = -999\n",
    "    \n",
    "    for k in possible_ks:\n",
    "        km = KMeans(n_clusters=k, random_state=123).fit(intervals_scaled)\n",
    "        labels = km.labels_\n",
    "        sil = silhouette_score(intervals_scaled, labels)\n",
    "        if sil > best_sil:\n",
    "            best_sil = sil\n",
    "            best_k = k\n",
    "    \n",
    "    # run final K-means with best_k\n",
    "    final_km = KMeans(n_clusters=best_k, random_state=123).fit(intervals_scaled)\n",
    "    df_trunc['cluster'] = final_km.labels_\n",
    "    \n",
    "    \n",
    "    \n",
    "    \n",
    "    \n",
    "    # 2d. For each cluster, find min, max, median on the exponential scale\n",
    "    # grouping is the way\n",
    "    cluster_stats = df_trunc.groupby('cluster')['event.interval'].agg(['min','max','median']).reset_index()\n",
    "    \n",
    "    # Merge cluster stats back to the truncated df\n",
    "    df_trunc = df_trunc.merge(cluster_stats, on='cluster', how='left', suffixes=('','_clust'))\n",
    "    \n",
    "    \n",
    "    \n",
    "    \n",
    "    # 2e. Now map cluster stats to the entire original subset\n",
    "    # For any row in the original subset not in df_trunc, we assign the \"most frequent cluster's median\"\n",
    "    freq_cluster = df_trunc['cluster'].value_counts().idxmax()\n",
    "    fallback_median = cluster_stats.loc[cluster_stats['cluster']==freq_cluster,'median'].values[0]\n",
    "    \n",
    "    # Merge cluster info back\n",
    "    df_merged = df_sub.merge(df_trunc[['pnr','eksd','cluster','median']], on=['pnr','eksd'], how='left')\n",
    "    \n",
    "    # Fill missing cluster/median with fallback\n",
    "    df_merged['cluster'] = df_merged['cluster'].fillna(-1)\n",
    "    df_merged['median'] = df_merged['median'].fillna(fallback_median)\n",
    "    \n",
    "    # Return final\n",
    "    return df_merged"
   ]
  },
  {
   "cell_type": "markdown",
   "metadata": {},
   "source": [
    "### Visualization of the Clusters 📊\n",
    "\n",
    "The `see_assumption_py` function visualizes the distribution of prescription durations for each patient using a boxplot. Here are the steps it performs:\n",
    "\n",
    "1. **Sort and Compute Previous Prescription Date**:\n",
    "    - The data is sorted by patient number (`pnr`) and prescription fill date (`eksd`). The previous prescription fill date (`prev_eksd`) for each patient is computed using the `shift(1)` method. Rows without a previous prescription date are dropped.\n",
    "\n",
    "2. **Calculate Duration**:\n",
    "    - The duration between consecutive prescription fills (`Duration`) is calculated in days.\n",
    "\n",
    "3. **Create Sequence Index**:\n",
    "    - Within each patient group, a sequence index (`P Number`) is created to represent the order of prescriptions.\n",
    "\n",
    "4. **Boxplot Visualization**:\n",
    "    - A boxplot is created to visualize the distribution of `Duration` for each `P Number`. The median of medians for the `Duration` across all patients is computed and displayed as a horizontal red dashed line on the boxplot.\n",
    "\n",
    "5. **Plot Customization**:\n",
    "    - The plot is customized with a title indicating the ATC code of the medication. The layout is adjusted for better visualization."
   ]
  },
  {
   "cell_type": "code",
   "execution_count": null,
   "metadata": {},
   "outputs": [],
   "source": [
    "#######################\n",
    "# 3. \"see_assumption\" in Python: Boxplot of intervals vs. p_number\n",
    "#######################\n",
    "def see_assumption_py(data):\n",
    "    # Sort by pnr, eksd and compute a 'p_number' index\n",
    "    df_temp = data.copy()\n",
    "    df_temp = df_temp.sort_values(by=['pnr','eksd'])\n",
    "    df_temp['prev_eksd'] = df_temp.groupby('pnr')['eksd'].shift(1)\n",
    "    df_temp.dropna(subset=['prev_eksd'], inplace=True)\n",
    "    df_temp['Duration'] = (df_temp['eksd'] - df_temp['prev_eksd']).dt.days\n",
    "    \n",
    "    # Within each pnr, create a sequence\n",
    "    df_temp['P Number'] = df_temp.groupby('pnr').cumcount() + 1\n",
    "    print(df_temp)\n",
    "    \n",
    "    # Boxplot\n",
    "    fig, ax = plt.subplots(figsize=(5,4))\n",
    "    sns.boxplot(data=df_temp, x='P Number', y='Duration',ax=ax, color='gray')\n",
    "    \n",
    "    # Compute \"median of medians\"\n",
    "    medians_of_medians = df_temp.groupby('pnr')['Duration'].median().median()\n",
    "    \n",
    "    # Horizontal red dashed line\n",
    "    ax.axhline(medians_of_medians, color='red', linestyle='--')\n",
    "    atc_code = data['ATC'].iloc[0]\n",
    "    ax.set_title(f\"Durations vs Patient Number for {atc_code}\\nRed Dashed = Median of Medians\")\n",
    "    plt.tight_layout()\n",
    "    plt.show()"
   ]
  },
  {
   "cell_type": "markdown",
   "metadata": {},
   "source": [
    "### Testing the code 🚀\n",
    "\n",
    "This code block calls two functions: `See_py(df)` and `see_assumption_py(df_clustered)`. The `See_py(df)` function applies the Sessa Empirical Estimator (SEE) method to the dataframe `df` using the default ATC code.\n"
   ]
  },
  {
   "cell_type": "code",
   "execution_count": 26,
   "metadata": {},
   "outputs": [
    {
     "name": "stdout",
     "output_type": "stream",
     "text": [
      "     pnr       eksd   ATC  prev_eksd  event.interval  cluster  median  \\\n",
      "1      1 2020-05-20  medA 2020-04-20            30.0      1.0    25.0   \n",
      "2      1 2020-06-14  medA 2020-05-20            25.0      1.0    25.0   \n",
      "3      1 2020-12-01  medA 2020-06-14           170.0     -1.0    56.0   \n",
      "5      2 2020-06-12  medA 2020-04-23            50.0      0.0    56.0   \n",
      "6      2 2020-07-20  medA 2020-06-12            38.0      0.0    56.0   \n",
      "..   ...        ...   ...        ...             ...      ...     ...   \n",
      "684  100 2021-08-24  medA 2021-06-29            56.0      0.0    56.0   \n",
      "685  100 2021-10-15  medA 2021-08-24            52.0      0.0    56.0   \n",
      "686  100 2021-11-20  medA 2021-10-15            36.0      1.0    25.0   \n",
      "687  100 2022-02-17  medA 2021-11-20            89.0      0.0    56.0   \n",
      "688  100 2022-05-10  medA 2022-02-17            82.0      0.0    56.0   \n",
      "\n",
      "     Duration  P Number  \n",
      "1          30         1  \n",
      "2          25         2  \n",
      "3         170         3  \n",
      "5          50         1  \n",
      "6          38         2  \n",
      "..        ...       ...  \n",
      "684        56         6  \n",
      "685        52         7  \n",
      "686        36         8  \n",
      "687        89         9  \n",
      "688        82        10  \n",
      "\n",
      "[598 rows x 9 columns]\n"
     ]
    },
    {
     "data": {
      "image/png": "[encoded data removed]",
      "text/plain": [
       "<Figure size 500x400 with 1 Axes>"
      ]
     },
     "metadata": {},
     "output_type": "display_data"
    }
   ],
   "source": [
    "#######################\n",
    "# 4.a Run the functions with medA\n",
    "#######################\n",
    "df_clustered = See_py(df)\n",
    "see_assumption_py(df_clustered)"
   ]
  },
  {
   "cell_type": "markdown",
   "metadata": {},
   "source": [
    "### Insights for medA SEE Results 📊\n",
    "Based on the boxplot:\n",
    "1. The first few p numbers show large spreads and high outliers with some going over the 150 day mark. This suggests that, at first, patients rarely go for in-between refills or started therapy late. \n",
    "\n",
    "2. The median of medians (red-dash line) shows that half the patient medians are below 50 days and the other half above. \n",
    "\n",
    "3. We can also see that as the p number increases, the plot trends lower, going below 60 days. This means that once a patient is on a stable medication schedule, they go for smaller intervals of refills.\n",
    "\n",
    "4. From the third insight, we can also say that patients that reach p number 14 higher are refilling more consistently than those on the first numbers with fewer outliers."
   ]
  },
  {
   "cell_type": "code",
   "execution_count": 27,
   "metadata": {},
   "outputs": [
    {
     "name": "stdout",
     "output_type": "stream",
     "text": [
      "     pnr       eksd   ATC  prev_eksd  event.interval  cluster  median  \\\n",
      "1      1 2020-10-29  medB 2020-09-03            56.0      0.0    54.0   \n",
      "3      2 2020-10-16  medB 2020-10-06            10.0      1.0    21.0   \n",
      "4      2 2020-11-19  medB 2020-10-16            34.0      0.0    54.0   \n",
      "5      2 2020-12-23  medB 2020-11-19            34.0      0.0    54.0   \n",
      "6      2 2021-01-25  medB 2020-12-23            33.0      1.0    21.0   \n",
      "..   ...        ...   ...        ...             ...      ...     ...   \n",
      "735  100 2021-10-28  medB 2021-09-27            31.0      1.0    21.0   \n",
      "736  100 2022-01-05  medB 2021-10-28            69.0      0.0    54.0   \n",
      "737  100 2022-03-09  medB 2022-01-05            63.0      0.0    54.0   \n",
      "738  100 2022-04-28  medB 2022-03-09            50.0      0.0    54.0   \n",
      "739  100 2022-06-16  medB 2022-04-28            49.0      0.0    54.0   \n",
      "\n",
      "     Duration  P Number  \n",
      "1          56         1  \n",
      "3          10         1  \n",
      "4          34         2  \n",
      "5          34         3  \n",
      "6          33         4  \n",
      "..        ...       ...  \n",
      "735        31         8  \n",
      "736        69         9  \n",
      "737        63        10  \n",
      "738        50        11  \n",
      "739        49        12  \n",
      "\n",
      "[644 rows x 9 columns]\n"
     ]
    },
    {
     "data": {
      "image/png": "[encoded data removed]",
      "text/plain": [
       "<Figure size 500x400 with 1 Axes>"
      ]
     },
     "metadata": {},
     "output_type": "display_data"
    }
   ],
   "source": [
    "#######################\n",
    "# 4.b Run the functions with medB\n",
    "#######################\n",
    "\n",
    "df_clustered = See_py(df, \"medB\")\n",
    "see_assumption_py(df_clustered)"
   ]
  },
  {
   "cell_type": "markdown",
   "metadata": {},
   "source": [
    "### Insights for medB SEE Results 📊\n",
    "Based on the boxplot:\n",
    "1. Like medA, the highest outliers (100–250 days) appear in the early p_numbers. These may be patients who waited an unusually long time for a second prescription or discontinued and then restarted after the gap.\n",
    "\n",
    "2. The median of medians (red-dash line) shows to be around 50-55 days for the medB patients.\n",
    "\n",
    "3. For many patients, intervals stabilize around 50–60 days as p_number increases. The red dashed line near 50–55 days confirms that a typical refill cycle for many medB users hovers around 7–8 weeks.\n",
    "\n",
    "This pattern often reflects the reality that some patients start therapy irregularly but then settle into a more stable refill schedule over time."
   ]
  },
  {
   "cell_type": "markdown",
   "metadata": {},
   "source": [
    "## Insights for the Sessa K Means Model 📈\n",
    "The data used in this clustering assignment was generated as a simulation for actual data from randomized seed of numbers. By combining SEE’s outlier truncation with K-means, you get robust “typical” intervals for each cluster, ignoring top-percentile gaps that might not reflect normal usage. \n",
    "\n",
    "In real-world pharmacoepidemiology, these clusters help define standard refill durations per patient or per cluster, improving the accuracy of treatment-episode construction.\n",
    "\n",
    "    Overall, using SEE with K-means on these two datasets reveals distinct refill‐interval patterns and helps standardize durations for subsequent pharmacoepidemiological analyses—whether for computing adherence, defining treatment episodes, or identifying patients with potentially suboptimal medication use."
   ]
  },
  {
   "cell_type": "markdown",
   "metadata": {},
   "source": [
    "## Substituting K-Means with an Alternative Clustering Algorithm 🔄\n",
    "K-means has well-known disadvantages—it assumes clusters are spherical, it needs to predetermine the number of clusters, and is very sensitive to outliers. To overcome these issues, you could try using DBSCAN, which can automatically identify the number of clusters and detect noise."
   ]
  },
  {
   "cell_type": "code",
   "execution_count": 22,
   "metadata": {},
   "outputs": [
    {
     "ename": "NameError",
     "evalue": "name 'X' is not defined",
     "output_type": "error",
     "traceback": [
      "\u001b[1;31m---------------------------------------------------------------------------\u001b[0m",
      "\u001b[1;31mNameError\u001b[0m                                 Traceback (most recent call last)",
      "Cell \u001b[1;32mIn[22], line 5\u001b[0m\n\u001b[0;32m      3\u001b[0m \u001b[38;5;66;03m# Use DBSCAN on the standardized data\u001b[39;00m\n\u001b[0;32m      4\u001b[0m dbscan \u001b[38;5;241m=\u001b[39m DBSCAN(eps\u001b[38;5;241m=\u001b[39m\u001b[38;5;241m0.5\u001b[39m, min_samples\u001b[38;5;241m=\u001b[39m\u001b[38;5;241m5\u001b[39m)\n\u001b[1;32m----> 5\u001b[0m labels_db \u001b[38;5;241m=\u001b[39m dbscan\u001b[38;5;241m.\u001b[39mfit_predict(\u001b[43mX\u001b[49m)\n\u001b[0;32m      7\u001b[0m \u001b[38;5;66;03m# Filter out noise points (label = -1)\u001b[39;00m\n\u001b[0;32m      8\u001b[0m mask \u001b[38;5;241m=\u001b[39m labels_db \u001b[38;5;241m!=\u001b[39m \u001b[38;5;241m-\u001b[39m\u001b[38;5;241m1\u001b[39m\n",
      "\u001b[1;31mNameError\u001b[0m: name 'X' is not defined"
     ]
    }
   ],
   "source": [
    "from sklearn.cluster import DBSCAN\n",
    "\n",
    "# Use DBSCAN on the standardized data\n",
    "dbscan = DBSCAN(eps=0.5, min_samples=5)\n",
    "labels_db = dbscan.fit_predict(X)\n",
    "\n",
    "# Filter out noise points (label = -1)\n",
    "mask = labels_db != -1\n",
    "X_db = X[mask]\n",
    "labels_db = labels_db[mask]\n",
    "\n",
    "# Create a DataFrame for DBSCAN results\n",
    "db_df = pd.DataFrame({\n",
    "    'days_diff': trimmed_diffs[mask],\n",
    "    'cluster': labels_db\n",
    "})\n",
    "\n",
    "# Compute median durations for each DBSCAN cluster\n",
    "db_cluster_medians = db_df.groupby('cluster')['days_diff'].median()\n",
    "print(\"Median durations by DBSCAN cluster:\")\n",
    "print(db_cluster_medians)\n",
    "\n",
    "# Visualize the clustering results\n",
    "plt.scatter(X, np.zeros_like(X), c=labels_db, cmap='viridis')\n",
    "plt.xlabel('Standardized Temporal Difference')\n",
    "plt.title('DBSCAN Clustering of Temporal Differences')\n",
    "plt.show()"
   ]
  }
 ],
 "metadata": {
  "kernelspec": {
   "display_name": "data_ana",
   "language": "python",
   "name": "python3"
  },
  "language_info": {
   "codemirror_mode": {
    "name": "ipython",
    "version": 3
   },
   "file_extension": ".py",
   "mimetype": "text/x-python",
   "name": "python",
   "nbconvert_exporter": "python",
   "pygments_lexer": "ipython3",
   "version": "3.9.21"
  }
 },
 "nbformat": 4,
 "nbformat_minor": 2
}
